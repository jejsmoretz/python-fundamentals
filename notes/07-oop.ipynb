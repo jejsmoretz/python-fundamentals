{
 "cells": [
  {
   "cell_type": "markdown",
   "metadata": {},
   "source": [
    "# 객체지향 프로그래밍"
   ]
  },
  {
   "cell_type": "markdown",
   "metadata": {},
   "source": [
    "# OOP (Object-Oriented Programming)"
   ]
  },
  {
   "cell_type": "markdown",
   "metadata": {},
   "source": [
    "## 객체지향 개념\n",
    "\n",
    "- <b>객체 (Object)</b>\n",
    "  - 현실 세계에 존재하는, 속성과 행위를 가지는 주체\n",
    "- <b>추상화 (Abstraction)</b>\n",
    "  - 객체가 가지는 속성(특징, data-fields/attribute) 및 행위(메소드, methods) 중 필요한 것을 뽑아내어 프로그래밍 코드로 작성하는 것을 의미한다.\n",
    "- <b>캡슐화 (Encapsulation)</b>\n",
    "  - 객체의 속성과 행위를 하나로 묶음으로써 실제 구현 내용 일부를 외부에 감추어 은닉하는 것을 의미한다.\n",
    "  - 일반적인 객체지향 언어에서는 접근 제한자(public, package, protected, private) 라는 것이 존재하여 `데이터의 무결성`을 보장한다.\n",
    "  - 그러나 파이썬에서는 접근 제한자가 없다.\n",
    "  - 파이썬에서의 캡슐화는 데이터의 무결성을 보장하기 위함으로써 사용되기 보다는 속성과 행위를 하나로 묶어 유지 및 보수를 용이하게 하기 위해 사용한다. \n",
    "- <b>상속 (Inheritance)</b>\n",
    "  - 상위(부모) 객체로부터 하위(자식) 객체가 특징 및 행위를 물려받는 것을 의미한다.\n",
    "- <b>다형성 (Polymorphism)</b>\n",
    "  - 하나의 형태가 여러가지 성질을 가질 수 있는 것을 의미한다.\n",
    "  - 아래의 3가지 개념과 함께 알아두어야 한다.\n",
    "    - 오버라이딩 (Overriding): 메소드명은 같으나 그 내부에 서로 다른 로직을 가질 수 있도록 `재정의`하는 것을 의미한다.\n",
    "    - 오버로딩 (Overloading): 메소드명은 같으나 파라미터 순서, 타입, 반환 타입이 다른 것을 의미하며, 이로써 다양한 형태를 갖을 수 있도록 한다.\n",
    "    - 단, 파이썬은 `기본적`으로 오버로딩을 지원하지 않는다.\n",
    "    - 연산자 오버로딩 (Operator Overloading): 기존에 정의되어있는 연산자를 다른 방식으로 처리할 수 있도록 정의하는 것을 의미한다."
   ]
  },
  {
   "cell_type": "markdown",
   "metadata": {},
   "source": [
    "---"
   ]
  },
  {
   "cell_type": "markdown",
   "metadata": {},
   "source": [
    "- <b>패키지 (Package)</b>\n",
    "  - 모듈을 모아놓은 단위\n",
    "  - 관련된 여러 개의 모듈을 계층적인 디렉터리로 분류해서 저장하고 관리한다.\n",
    "  - dot(`.`) 연산자를 이용하여 관리할 수 있다.\n",
    "  - `__init__.py`는 패키지를 인식시켜주는 역할을 수행 -> 특정 디렉토리가 패키지로 인식되기 위해 필요한 파일이다.\n",
    "\n",
    "- <b>클래스 (Class)</b>\n",
    "  - 새로운 이름 공간을 지원하는 단위: 데이터의 설계도 역할을 한다.\n",
    "  - 데이터와 데이터를 변경하는 함수(메소드)를 같은 공간 내에 작성한다.\n",
    "  - 클래스를 정의하는 것은 새로운 자료형을 정의하는 것이고, 인스턴스는 이 자료형의 객체를 생성하는 것이다.\n",
    "  - 클래스와 인스턴스는 각자의 이름공간을 가지게 되며 유기적인 관계로 연결"
   ]
  },
  {
   "cell_type": "markdown",
   "metadata": {},
   "source": [
    "## 용어 정리\n",
    "\n",
    "<table>\n",
    "    <tr>\n",
    "        <th>용어</th>\n",
    "        <th>설명</th>\n",
    "    </tr>\n",
    "    <tr>\n",
    "        <th>클래스 (Class)</th>\n",
    "        <td>class 문으로 정의하며, 속성과 메소드를 가지는 객체</td>\n",
    "    </tr>\n",
    "    <tr>\n",
    "        <th>클래스 객체</th>\n",
    "        <td>어떤 클래스를 구체적으로 가리킬 때 사용</td>\n",
    "    </tr>\n",
    "    <tr>\n",
    "        <th>인스턴스 (Instance)</th>\n",
    "        <td>'최종적'으로 클래스의 '__init__' 메소드를 호출하여 만들어지는 객체</td>\n",
    "    </tr>\n",
    "    <tr>\n",
    "        <th>인스턴스 객체</th>\n",
    "        <td>인스턴스화 된 객체. 파이썬에서는 클래스도 인스턴스 객체로 취급된다.</td>\n",
    "    </tr>\n",
    "    <tr>\n",
    "        <th>멤버(변수) 혹은 필드</th>\n",
    "        <td>클래스가 갖는 변수(식별자)</td>\n",
    "    </tr>\n",
    "    <tr>\n",
    "        <th>메소드 (Method)</th>\n",
    "        <td>클래스 내에 정의된 함수</td>\n",
    "    </tr>\n",
    "    <tr>\n",
    "        <th>속성 (Attribute)</th>\n",
    "        <td>멤버(변수)와 같음</td>\n",
    "    </tr>\n",
    "    <tr>\n",
    "        <th>상위(부모) 클래스</th>\n",
    "        <td>기반(base) 클래스. 어떤 클래스의 상위에 있으며 여러 속성을 상속해준다.</td>\n",
    "    </tr>\n",
    "    <tr>\n",
    "        <th>하위(자식) 클래스</th>\n",
    "        <td>파생 클래스. 상위 클래스로부터 여러 속성을 상속 받는다.</td>\n",
    "    </tr>\n",
    "</table>\n",
    "\n",
    "- <b>정적 메소드(static method)와 클래스 메소드(class method)</b>\n",
    "  - 인스턴스 객체의 멤버에 접근할 필요가 없는 메소드\n",
    "  - 첫 번째 인자로 인스턴스 객체 참조값을 받지 않는 클래스 내에 정의된 메소드\n",
    "  - Class 메소드의 첫 번째 인자는 클래스 객체 참조를 위한 객체 참조값\n",
    "  - `@staticmethod`, `@classmethod` 데코레이터로 손쉽게 구현 가능\n",
    "\n",
    "- 클래스 멤버와 인스턴스 멤버\n",
    "\n",
    "<table>\n",
    "    <tr>\n",
    "        <th>종류</th>\n",
    "        <th>이름공간 (namespace)</th>\n",
    "        <th>공유 범위</th>\n",
    "    </tr>\n",
    "    <tr>\n",
    "        <td>클래스 멤버</td>\n",
    "        <td>클래스 이름 공간 내</td>\n",
    "        <td>모든 인스턴스 객체들에 공유</td>\n",
    "    </tr>\n",
    "    <tr>\n",
    "        <td>인스턴스 멤버</td>\n",
    "        <td>인스턴스 이름 공간 내</td>\n",
    "        <td>개별 인스턴스 객체에서만 참조</td>\n",
    "    </tr>\n",
    "</table>"
   ]
  },
  {
   "cell_type": "markdown",
   "metadata": {},
   "source": [
    "## Object Attribute\n",
    "\n",
    "- 클래스 멤버와 인스턴스 멤버 접근\n",
    "  - 인스턴스 객체에서 참조하는 멤버의 객체를 찾는 순서는 아래와 같다\n",
    "    - 인스턴스 멤버\n",
    "    - 인스턴스 멤버가 없다면 클래스 멤버를 찾음\n",
    "\n",
    "<img src='https://ifh.cc/g/DzGqJ.png' />"
   ]
  },
  {
   "cell_type": "markdown",
   "metadata": {},
   "source": [
    "## Descriptor\n",
    "\n",
    "- Attribute access가 가능하도록 Descriptor protocol의 메소드를 오버라이드하여 `binding-behavior`를 갖는 객체의 attribute\n",
    "- `__get__`, `__set__`, `__delete__` 3가지 메소드가 오버라이드된 클래스\n",
    "\n",
    "<img src='https://ifh.cc/g/KYflP.png' />"
   ]
  },
  {
   "cell_type": "markdown",
   "metadata": {},
   "source": [
    "## 생성자와 소멸자\n",
    "\n",
    "- <b>생성자</b>: 클래스가 인스턴스화 될 때 실행되는 내용. 일반적으로 초기화 작업이 이루어짐.\n",
    "    - `__init__` 메소드 내에 작성\n",
    "- <b>소멸자</b>: 클래스 인스턴스가 제거될 때 실행되는 내용.\n",
    "    - `__del__` 메소드 내에 작성"
   ]
  },
  {
   "cell_type": "markdown",
   "metadata": {},
   "source": [
    "## `__str__` vs `__repr__`\n",
    "\n",
    "- `__str__` 메소드\n",
    "  - 객체를 문자열로 반환하는 함수\n",
    "\n",
    "- `__repr__` 메소드\n",
    "  - `__str__`과 비슷하지만 \"문자열로 객체를 다시 생성할 수 있기 위해\" 사용\n",
    "  - Eval을 수행하면 다시 그 해당 객체가 생성될 수 있어야 한다.\n",
    "\n",
    "- `__str__` vs `__repr__`\n",
    "<table>\n",
    "    <tr>\n",
    "        <th></th>\n",
    "        <th>str</th>\n",
    "        <th>repr</th>\n",
    "    </tr>\n",
    "    <tr>\n",
    "        <th>구분</th>\n",
    "        <td>비공식적 문자열 출력</td>\n",
    "        <td>공식적 문자열 출력</td>\n",
    "    </tr>\n",
    "    <tr>\n",
    "        <th>목적</th>\n",
    "        <td>사용자가 보기 쉽게</td>\n",
    "        <td>문자열로 객체를 다시 생성할 수 있도록</td>\n",
    "    </tr>\n",
    "    <tr>\n",
    "        <th>대상</th>\n",
    "        <td>사용자(End User)</td>\n",
    "        <td>개발자(Developer)</td>\n",
    "    </tr>\n",
    "</table>"
   ]
  },
  {
   "cell_type": "markdown",
   "metadata": {},
   "source": [
    "## 프로퍼티 (Property)\n",
    "\n",
    "프로퍼티는 `게터(getter)` 혹은 `세터(setter)`를 가지는 멤버를 의미하며, 파이썬에서는 `프로퍼티 어트리뷰트(property attribute)`를 돌려주는 함수이다. (어트리뷰트는 09. OOP를 참고)\n",
    "\n",
    "- `fget`: 어트리뷰트 값을 얻는 함수\n",
    "- `fset`: 어트리뷰트 값을 설정하는 함수\n",
    "- `fdel`: 어트리뷰트 값을 삭제하는 함수"
   ]
  },
  {
   "cell_type": "code",
   "execution_count": 1,
   "metadata": {},
   "outputs": [],
   "source": [
    "class C:\n",
    "    def __init__(self):\n",
    "        self._x = None\n",
    "\n",
    "    def getx(self):\n",
    "        return self._x\n",
    "\n",
    "    def setx(self, value):\n",
    "        self._x = value\n",
    "\n",
    "    def delx(self):\n",
    "        del self._x\n",
    "\n",
    "    x = property(getx, setx, delx, \"I'm the 'x' property.\")"
   ]
  },
  {
   "cell_type": "code",
   "execution_count": 2,
   "metadata": {},
   "outputs": [],
   "source": [
    "c = C()"
   ]
  },
  {
   "cell_type": "code",
   "execution_count": 3,
   "metadata": {},
   "outputs": [],
   "source": [
    "c.setx(10)"
   ]
  },
  {
   "cell_type": "code",
   "execution_count": 4,
   "metadata": {},
   "outputs": [
    {
     "data": {
      "text/plain": [
       "10"
      ]
     },
     "execution_count": 4,
     "metadata": {},
     "output_type": "execute_result"
    }
   ],
   "source": [
    "c.getx()"
   ]
  },
  {
   "cell_type": "code",
   "execution_count": 5,
   "metadata": {},
   "outputs": [
    {
     "data": {
      "text/plain": [
       "10"
      ]
     },
     "execution_count": 5,
     "metadata": {},
     "output_type": "execute_result"
    }
   ],
   "source": [
    "c.x"
   ]
  },
  {
   "cell_type": "code",
   "execution_count": 6,
   "metadata": {},
   "outputs": [],
   "source": [
    "c.x = 100"
   ]
  },
  {
   "cell_type": "code",
   "execution_count": 7,
   "metadata": {},
   "outputs": [
    {
     "data": {
      "text/plain": [
       "100"
      ]
     },
     "execution_count": 7,
     "metadata": {},
     "output_type": "execute_result"
    }
   ],
   "source": [
    "c.x"
   ]
  },
  {
   "cell_type": "code",
   "execution_count": 8,
   "metadata": {},
   "outputs": [],
   "source": [
    "del c.x"
   ]
  },
  {
   "cell_type": "code",
   "execution_count": 9,
   "metadata": {},
   "outputs": [
    {
     "ename": "AttributeError",
     "evalue": "'C' object has no attribute '_x'",
     "output_type": "error",
     "traceback": [
      "\u001b[1;31m---------------------------------------------------------------------------\u001b[0m",
      "\u001b[1;31mAttributeError\u001b[0m                            Traceback (most recent call last)",
      "\u001b[1;32m<ipython-input-9-628a1ebb8ea7>\u001b[0m in \u001b[0;36m<module>\u001b[1;34m\u001b[0m\n\u001b[1;32m----> 1\u001b[1;33m \u001b[0mc\u001b[0m\u001b[1;33m.\u001b[0m\u001b[0mx\u001b[0m\u001b[1;33m\u001b[0m\u001b[1;33m\u001b[0m\u001b[0m\n\u001b[0m",
      "\u001b[1;32m<ipython-input-1-85074e9574d4>\u001b[0m in \u001b[0;36mgetx\u001b[1;34m(self)\u001b[0m\n\u001b[0;32m      4\u001b[0m \u001b[1;33m\u001b[0m\u001b[0m\n\u001b[0;32m      5\u001b[0m     \u001b[1;32mdef\u001b[0m \u001b[0mgetx\u001b[0m\u001b[1;33m(\u001b[0m\u001b[0mself\u001b[0m\u001b[1;33m)\u001b[0m\u001b[1;33m:\u001b[0m\u001b[1;33m\u001b[0m\u001b[1;33m\u001b[0m\u001b[0m\n\u001b[1;32m----> 6\u001b[1;33m         \u001b[1;32mreturn\u001b[0m \u001b[0mself\u001b[0m\u001b[1;33m.\u001b[0m\u001b[0m_x\u001b[0m\u001b[1;33m\u001b[0m\u001b[1;33m\u001b[0m\u001b[0m\n\u001b[0m\u001b[0;32m      7\u001b[0m \u001b[1;33m\u001b[0m\u001b[0m\n\u001b[0;32m      8\u001b[0m     \u001b[1;32mdef\u001b[0m \u001b[0msetx\u001b[0m\u001b[1;33m(\u001b[0m\u001b[0mself\u001b[0m\u001b[1;33m,\u001b[0m \u001b[0mvalue\u001b[0m\u001b[1;33m)\u001b[0m\u001b[1;33m:\u001b[0m\u001b[1;33m\u001b[0m\u001b[1;33m\u001b[0m\u001b[0m\n",
      "\u001b[1;31mAttributeError\u001b[0m: 'C' object has no attribute '_x'"
     ]
    }
   ],
   "source": [
    "c.x"
   ]
  },
  {
   "cell_type": "markdown",
   "metadata": {},
   "source": [
    "객체 `c`가 클래스 `C`의 인스턴스면, `c.x`는 `게터(getter)`를 호출하고, `c.x = value`는 `세터(setter)`를, `del c.x`는 `딜리터(deleter)`를 호출한다.\n",
    "\n",
    "아래처럼 `property()`를 `데코레이터`로 사용하여 읽기 전용 프로퍼티를 쉽게 만들 수 있다."
   ]
  },
  {
   "cell_type": "code",
   "execution_count": 10,
   "metadata": {},
   "outputs": [],
   "source": [
    "class Parrot:\n",
    "    def __init__(self):\n",
    "        self._voltage = 100000\n",
    "\n",
    "    @property\n",
    "    def voltage(self):\n",
    "        \"\"\"Get the current voltage.\"\"\"\n",
    "        return self._voltage"
   ]
  },
  {
   "cell_type": "code",
   "execution_count": 11,
   "metadata": {},
   "outputs": [],
   "source": [
    "parrot = Parrot()"
   ]
  },
  {
   "cell_type": "code",
   "execution_count": 12,
   "metadata": {},
   "outputs": [
    {
     "data": {
      "text/plain": [
       "100000"
      ]
     },
     "execution_count": 12,
     "metadata": {},
     "output_type": "execute_result"
    }
   ],
   "source": [
    "parrot.voltage"
   ]
  },
  {
   "cell_type": "markdown",
   "metadata": {},
   "source": [
    "파이썬 3.5버전부터 프로퍼티 개체의 독스트링이 쓰기 가능하다. 만약 독스트링이 없다면`fget`의 독스트링(있는 경우)이 복사된다."
   ]
  },
  {
   "cell_type": "code",
   "execution_count": 13,
   "metadata": {},
   "outputs": [],
   "source": [
    "?parrot.voltage"
   ]
  },
  {
   "cell_type": "code",
   "execution_count": 14,
   "metadata": {},
   "outputs": [],
   "source": [
    "class C:\n",
    "    def __init__(self):\n",
    "        self._x = None\n",
    "\n",
    "    @property\n",
    "    def x(self):\n",
    "        \"\"\"I'm the 'x' property.\"\"\"\n",
    "        return self._x\n",
    "\n",
    "    @x.setter\n",
    "    def x(self, value):\n",
    "        self._x = value\n",
    "\n",
    "    @x.deleter\n",
    "    def x(self):\n",
    "        del self._x"
   ]
  },
  {
   "cell_type": "markdown",
   "metadata": {},
   "source": [
    "위의 코드는 첫 번째 예제로 작성했던 클래스 `C`와 동일하다. 추가적인 함수들에 원래 프로퍼티(위의 경우 x)와 같은 이름을 사용해야 한다.\n",
    "\n",
    "반환된 프로퍼티 객체는 생성자 인자에 해당하는 `fget`, `fset` 및 `fdel` 어트리뷰트를 가진다."
   ]
  },
  {
   "cell_type": "code",
   "execution_count": 15,
   "metadata": {},
   "outputs": [],
   "source": [
    "c = C()"
   ]
  },
  {
   "cell_type": "code",
   "execution_count": 16,
   "metadata": {},
   "outputs": [],
   "source": [
    "c.x"
   ]
  },
  {
   "cell_type": "code",
   "execution_count": 17,
   "metadata": {},
   "outputs": [],
   "source": [
    "c.x = 10"
   ]
  },
  {
   "cell_type": "code",
   "execution_count": 18,
   "metadata": {},
   "outputs": [
    {
     "data": {
      "text/plain": [
       "10"
      ]
     },
     "execution_count": 18,
     "metadata": {},
     "output_type": "execute_result"
    }
   ],
   "source": [
    "c.x"
   ]
  },
  {
   "cell_type": "code",
   "execution_count": 19,
   "metadata": {},
   "outputs": [],
   "source": [
    "del c.x"
   ]
  },
  {
   "cell_type": "code",
   "execution_count": 20,
   "metadata": {},
   "outputs": [
    {
     "ename": "AttributeError",
     "evalue": "'C' object has no attribute '_x'",
     "output_type": "error",
     "traceback": [
      "\u001b[1;31m---------------------------------------------------------------------------\u001b[0m",
      "\u001b[1;31mAttributeError\u001b[0m                            Traceback (most recent call last)",
      "\u001b[1;32m<ipython-input-20-628a1ebb8ea7>\u001b[0m in \u001b[0;36m<module>\u001b[1;34m\u001b[0m\n\u001b[1;32m----> 1\u001b[1;33m \u001b[0mc\u001b[0m\u001b[1;33m.\u001b[0m\u001b[0mx\u001b[0m\u001b[1;33m\u001b[0m\u001b[1;33m\u001b[0m\u001b[0m\n\u001b[0m",
      "\u001b[1;32m<ipython-input-14-3195c22c2f74>\u001b[0m in \u001b[0;36mx\u001b[1;34m(self)\u001b[0m\n\u001b[0;32m      6\u001b[0m     \u001b[1;32mdef\u001b[0m \u001b[0mx\u001b[0m\u001b[1;33m(\u001b[0m\u001b[0mself\u001b[0m\u001b[1;33m)\u001b[0m\u001b[1;33m:\u001b[0m\u001b[1;33m\u001b[0m\u001b[1;33m\u001b[0m\u001b[0m\n\u001b[0;32m      7\u001b[0m         \u001b[1;34m\"\"\"I'm the 'x' property.\"\"\"\u001b[0m\u001b[1;33m\u001b[0m\u001b[1;33m\u001b[0m\u001b[0m\n\u001b[1;32m----> 8\u001b[1;33m         \u001b[1;32mreturn\u001b[0m \u001b[0mself\u001b[0m\u001b[1;33m.\u001b[0m\u001b[0m_x\u001b[0m\u001b[1;33m\u001b[0m\u001b[1;33m\u001b[0m\u001b[0m\n\u001b[0m\u001b[0;32m      9\u001b[0m \u001b[1;33m\u001b[0m\u001b[0m\n\u001b[0;32m     10\u001b[0m     \u001b[1;33m@\u001b[0m\u001b[0mx\u001b[0m\u001b[1;33m.\u001b[0m\u001b[0msetter\u001b[0m\u001b[1;33m\u001b[0m\u001b[1;33m\u001b[0m\u001b[0m\n",
      "\u001b[1;31mAttributeError\u001b[0m: 'C' object has no attribute '_x'"
     ]
    }
   ],
   "source": [
    "c.x"
   ]
  },
  {
   "cell_type": "markdown",
   "metadata": {},
   "source": [
    "---"
   ]
  },
  {
   "cell_type": "markdown",
   "metadata": {},
   "source": [
    "## 상속\n",
    "\n",
    "앞에서도 언급했듯, 상속은 상위 객체로부터 하위 객체가 특징(멤버 혹은 어트리뷰트)과 행위(메소드)를 물려받는 것을 의미한다."
   ]
  },
  {
   "cell_type": "code",
   "execution_count": 21,
   "metadata": {},
   "outputs": [],
   "source": [
    "class A:\n",
    "    a = 10\n",
    "\n",
    "    def __init__(self):\n",
    "        print('A')\n",
    "\n",
    "    def hello(self):\n",
    "        print('hello')"
   ]
  },
  {
   "cell_type": "markdown",
   "metadata": {},
   "source": [
    "상속을 받기 위해서는 클래스를 정의할 때, 클래스명 옆에 상속받을 클래스명을 작성한다."
   ]
  },
  {
   "cell_type": "code",
   "execution_count": 22,
   "metadata": {},
   "outputs": [],
   "source": [
    "class B(A):\n",
    "    b = 20\n",
    "\n",
    "    def __init__(self):\n",
    "        print('B')\n",
    "\n",
    "    def hi(self):\n",
    "        print('hi')"
   ]
  },
  {
   "cell_type": "code",
   "execution_count": 23,
   "metadata": {},
   "outputs": [
    {
     "name": "stdout",
     "output_type": "stream",
     "text": [
      "A\n"
     ]
    }
   ],
   "source": [
    "a = A()"
   ]
  },
  {
   "cell_type": "code",
   "execution_count": 24,
   "metadata": {},
   "outputs": [
    {
     "name": "stdout",
     "output_type": "stream",
     "text": [
      "B\n"
     ]
    }
   ],
   "source": [
    "b = B()"
   ]
  },
  {
   "cell_type": "code",
   "execution_count": 25,
   "metadata": {},
   "outputs": [
    {
     "data": {
      "text/plain": [
       "10"
      ]
     },
     "execution_count": 25,
     "metadata": {},
     "output_type": "execute_result"
    }
   ],
   "source": [
    "a.a"
   ]
  },
  {
   "cell_type": "code",
   "execution_count": 26,
   "metadata": {},
   "outputs": [
    {
     "name": "stdout",
     "output_type": "stream",
     "text": [
      "hello\n"
     ]
    }
   ],
   "source": [
    "a.hello()"
   ]
  },
  {
   "cell_type": "code",
   "execution_count": 27,
   "metadata": {},
   "outputs": [
    {
     "data": {
      "text/plain": [
       "10"
      ]
     },
     "execution_count": 27,
     "metadata": {},
     "output_type": "execute_result"
    }
   ],
   "source": [
    "b.a"
   ]
  },
  {
   "cell_type": "code",
   "execution_count": 28,
   "metadata": {},
   "outputs": [
    {
     "data": {
      "text/plain": [
       "20"
      ]
     },
     "execution_count": 28,
     "metadata": {},
     "output_type": "execute_result"
    }
   ],
   "source": [
    "b.b"
   ]
  },
  {
   "cell_type": "code",
   "execution_count": 29,
   "metadata": {},
   "outputs": [
    {
     "name": "stdout",
     "output_type": "stream",
     "text": [
      "hello\n"
     ]
    }
   ],
   "source": [
    "b.hello()"
   ]
  },
  {
   "cell_type": "code",
   "execution_count": 30,
   "metadata": {},
   "outputs": [
    {
     "name": "stdout",
     "output_type": "stream",
     "text": [
      "hi\n"
     ]
    }
   ],
   "source": [
    "b.hi()"
   ]
  },
  {
   "cell_type": "markdown",
   "metadata": {},
   "source": [
    "## 오버라이딩 (Overriding)\n",
    "\n",
    "아래처럼 클래스 A를 상속받은 클래스 B에서 `hello`라는 메소드를 재정의할 수 있다."
   ]
  },
  {
   "cell_type": "code",
   "execution_count": 31,
   "metadata": {},
   "outputs": [],
   "source": [
    "class A:\n",
    "    def __init__(self):\n",
    "        print('A')\n",
    "    \n",
    "    def hello(self):\n",
    "        print('hello')"
   ]
  },
  {
   "cell_type": "code",
   "execution_count": 32,
   "metadata": {},
   "outputs": [],
   "source": [
    "class B(A):\n",
    "    def __init__(self):\n",
    "        print('B')\n",
    "        \n",
    "    def hello(self):\n",
    "        print('hi')"
   ]
  },
  {
   "cell_type": "code",
   "execution_count": 33,
   "metadata": {},
   "outputs": [
    {
     "name": "stdout",
     "output_type": "stream",
     "text": [
      "A\n"
     ]
    }
   ],
   "source": [
    "a = A()"
   ]
  },
  {
   "cell_type": "code",
   "execution_count": 34,
   "metadata": {},
   "outputs": [
    {
     "name": "stdout",
     "output_type": "stream",
     "text": [
      "B\n"
     ]
    }
   ],
   "source": [
    "b = B()"
   ]
  },
  {
   "cell_type": "code",
   "execution_count": 35,
   "metadata": {},
   "outputs": [
    {
     "name": "stdout",
     "output_type": "stream",
     "text": [
      "hello\n"
     ]
    }
   ],
   "source": [
    "a.hello()"
   ]
  },
  {
   "cell_type": "code",
   "execution_count": 36,
   "metadata": {},
   "outputs": [
    {
     "name": "stdout",
     "output_type": "stream",
     "text": [
      "hi\n"
     ]
    }
   ],
   "source": [
    "b.hello()"
   ]
  },
  {
   "cell_type": "markdown",
   "metadata": {},
   "source": [
    "## 다중 상속\n",
    "\n",
    "파이썬에서는 하위 객체가 여러 가지의 상위 객체를 상속받을 수 있는 다중 상속을 지원한다."
   ]
  },
  {
   "cell_type": "code",
   "execution_count": 37,
   "metadata": {},
   "outputs": [],
   "source": [
    "class A:\n",
    "    def __init__(self):\n",
    "        print('A')\n",
    "\n",
    "class B:\n",
    "    def __init__(self):\n",
    "        print('B')"
   ]
  },
  {
   "cell_type": "markdown",
   "metadata": {},
   "source": [
    "예시로 클래스 A와 B가 있다고 가정할 때, 이 두 클래스를 상속받는 클래스 C를 정의해본다."
   ]
  },
  {
   "cell_type": "code",
   "execution_count": 38,
   "metadata": {},
   "outputs": [],
   "source": [
    "class C(A, B):\n",
    "    def __init__(self):\n",
    "        print('C')"
   ]
  },
  {
   "cell_type": "code",
   "execution_count": 39,
   "metadata": {},
   "outputs": [
    {
     "name": "stdout",
     "output_type": "stream",
     "text": [
      "A\n"
     ]
    }
   ],
   "source": [
    "a = A()"
   ]
  },
  {
   "cell_type": "code",
   "execution_count": 40,
   "metadata": {},
   "outputs": [
    {
     "name": "stdout",
     "output_type": "stream",
     "text": [
      "B\n"
     ]
    }
   ],
   "source": [
    "b = B()"
   ]
  },
  {
   "cell_type": "code",
   "execution_count": 41,
   "metadata": {},
   "outputs": [
    {
     "name": "stdout",
     "output_type": "stream",
     "text": [
      "C\n"
     ]
    }
   ],
   "source": [
    "c = C()"
   ]
  },
  {
   "cell_type": "code",
   "execution_count": 42,
   "metadata": {},
   "outputs": [],
   "source": [
    "class D:\n",
    "    def __init__(self):\n",
    "        print('D')"
   ]
  },
  {
   "cell_type": "markdown",
   "metadata": {},
   "source": [
    "`isinstance`는 인자값으로 받은 `obj` 객체가 단일 객체 혹은 튜플 안에 존재하는 객체들의 인스턴스이면 `True`, 그렇지 않으면 `False`를 반환해주는 함수이다."
   ]
  },
  {
   "cell_type": "code",
   "execution_count": 43,
   "metadata": {},
   "outputs": [
    {
     "data": {
      "text/plain": [
       "False"
      ]
     },
     "execution_count": 43,
     "metadata": {},
     "output_type": "execute_result"
    }
   ],
   "source": [
    "isinstance(A, B)"
   ]
  },
  {
   "cell_type": "code",
   "execution_count": 44,
   "metadata": {},
   "outputs": [
    {
     "data": {
      "text/plain": [
       "False"
      ]
     },
     "execution_count": 44,
     "metadata": {},
     "output_type": "execute_result"
    }
   ],
   "source": [
    "isinstance(B, A)"
   ]
  },
  {
   "cell_type": "code",
   "execution_count": 45,
   "metadata": {},
   "outputs": [
    {
     "data": {
      "text/plain": [
       "True"
      ]
     },
     "execution_count": 45,
     "metadata": {},
     "output_type": "execute_result"
    }
   ],
   "source": [
    "isinstance(a, A)"
   ]
  },
  {
   "cell_type": "code",
   "execution_count": 46,
   "metadata": {},
   "outputs": [
    {
     "data": {
      "text/plain": [
       "True"
      ]
     },
     "execution_count": 46,
     "metadata": {},
     "output_type": "execute_result"
    }
   ],
   "source": [
    "isinstance(b, B)"
   ]
  },
  {
   "cell_type": "markdown",
   "metadata": {},
   "source": [
    "`issubclass` 함수는 인자값으로 받은 `cls` 객체가 단일 객체 혹은 튜플 안에 존재하는 객체들을 상속 받았으면 `True`, 받지 않았으면 `False`를 반환해주는 함수이다."
   ]
  },
  {
   "cell_type": "code",
   "execution_count": 47,
   "metadata": {},
   "outputs": [
    {
     "data": {
      "text/plain": [
       "True"
      ]
     },
     "execution_count": 47,
     "metadata": {},
     "output_type": "execute_result"
    }
   ],
   "source": [
    "issubclass(C, A)"
   ]
  },
  {
   "cell_type": "code",
   "execution_count": 48,
   "metadata": {},
   "outputs": [
    {
     "data": {
      "text/plain": [
       "True"
      ]
     },
     "execution_count": 48,
     "metadata": {},
     "output_type": "execute_result"
    }
   ],
   "source": [
    "issubclass(C, (A,))"
   ]
  },
  {
   "cell_type": "code",
   "execution_count": 49,
   "metadata": {},
   "outputs": [
    {
     "data": {
      "text/plain": [
       "True"
      ]
     },
     "execution_count": 49,
     "metadata": {},
     "output_type": "execute_result"
    }
   ],
   "source": [
    "issubclass(C, (B,))"
   ]
  },
  {
   "cell_type": "code",
   "execution_count": 50,
   "metadata": {},
   "outputs": [
    {
     "data": {
      "text/plain": [
       "True"
      ]
     },
     "execution_count": 50,
     "metadata": {},
     "output_type": "execute_result"
    }
   ],
   "source": [
    "issubclass(C, (A, B))"
   ]
  },
  {
   "cell_type": "code",
   "execution_count": 51,
   "metadata": {},
   "outputs": [
    {
     "data": {
      "text/plain": [
       "False"
      ]
     },
     "execution_count": 51,
     "metadata": {},
     "output_type": "execute_result"
    }
   ],
   "source": [
    "issubclass(C, (D,))"
   ]
  },
  {
   "cell_type": "markdown",
   "metadata": {},
   "source": [
    "`mro` 메소드는 클래스가 상속받은 상위 클래스들을 리스트로 반환한다."
   ]
  },
  {
   "cell_type": "code",
   "execution_count": 52,
   "metadata": {},
   "outputs": [
    {
     "data": {
      "text/plain": [
       "[__main__.A, object]"
      ]
     },
     "execution_count": 52,
     "metadata": {},
     "output_type": "execute_result"
    }
   ],
   "source": [
    "A.mro()"
   ]
  },
  {
   "cell_type": "code",
   "execution_count": 53,
   "metadata": {},
   "outputs": [
    {
     "data": {
      "text/plain": [
       "[__main__.B, object]"
      ]
     },
     "execution_count": 53,
     "metadata": {},
     "output_type": "execute_result"
    }
   ],
   "source": [
    "B.mro()"
   ]
  },
  {
   "cell_type": "code",
   "execution_count": 54,
   "metadata": {},
   "outputs": [
    {
     "data": {
      "text/plain": [
       "[__main__.C, __main__.A, __main__.B, object]"
      ]
     },
     "execution_count": 54,
     "metadata": {},
     "output_type": "execute_result"
    }
   ],
   "source": [
    "C.mro()"
   ]
  },
  {
   "cell_type": "markdown",
   "metadata": {},
   "source": [
    "## 다이아몬드 문제 (Diamond Problem)\n",
    "\n",
    "다중 상속은 `다이아몬드 문제`를 일으킨다. 다이아몬드 문제란, 여러 상위 객체를 상속받아서 멤버 혹은 메소드들이 중복되어 그 정의가 모호해지는 현상을 의미한다.\n",
    "\n",
    "이 문제를 해결하기 위해 C++는 `virtual` 키워드를 사용해서 해결할 수 있으며, 자바는 아예 다중 상속을 지원하지 않고 `인터페이스(Interface)`만 추가로 더 상속할 수 있도록 하였다.\n",
    "\n",
    "파이썬은 왼쪽에 선언된 클래스부터 오른쪽 순으로 우선순위를 두도록 하였다."
   ]
  },
  {
   "cell_type": "code",
   "execution_count": 55,
   "metadata": {},
   "outputs": [
    {
     "data": {
      "text/plain": [
       "[__main__.C, __main__.A, __main__.B, object]"
      ]
     },
     "execution_count": 55,
     "metadata": {},
     "output_type": "execute_result"
    }
   ],
   "source": [
    "C.mro()"
   ]
  },
  {
   "cell_type": "code",
   "execution_count": 56,
   "metadata": {},
   "outputs": [
    {
     "name": "stdout",
     "output_type": "stream",
     "text": [
      "C\n"
     ]
    }
   ],
   "source": [
    "c = C()"
   ]
  },
  {
   "cell_type": "code",
   "execution_count": 57,
   "metadata": {},
   "outputs": [
    {
     "data": {
      "text/plain": [
       "__main__.A"
      ]
     },
     "execution_count": 57,
     "metadata": {},
     "output_type": "execute_result"
    }
   ],
   "source": [
    "C.__base__"
   ]
  },
  {
   "cell_type": "code",
   "execution_count": 58,
   "metadata": {},
   "outputs": [
    {
     "data": {
      "text/plain": [
       "(__main__.A, __main__.B)"
      ]
     },
     "execution_count": 58,
     "metadata": {},
     "output_type": "execute_result"
    }
   ],
   "source": [
    "C.__bases__"
   ]
  },
  {
   "cell_type": "code",
   "execution_count": 59,
   "metadata": {},
   "outputs": [],
   "source": [
    "class A:\n",
    "    def __init__(self):\n",
    "        print('A')"
   ]
  },
  {
   "cell_type": "code",
   "execution_count": 60,
   "metadata": {},
   "outputs": [],
   "source": [
    "class B:\n",
    "    def __init__(self):\n",
    "        print('B')"
   ]
  },
  {
   "cell_type": "markdown",
   "metadata": {},
   "source": [
    "`super`는 상위 클래스를 의미한다."
   ]
  },
  {
   "cell_type": "code",
   "execution_count": 61,
   "metadata": {},
   "outputs": [],
   "source": [
    "class C(A, B):\n",
    "    def __init__(self):\n",
    "        super().__init__()\n",
    "        print('C')"
   ]
  },
  {
   "cell_type": "code",
   "execution_count": 62,
   "metadata": {},
   "outputs": [
    {
     "name": "stdout",
     "output_type": "stream",
     "text": [
      "A\n",
      "C\n"
     ]
    },
    {
     "data": {
      "text/plain": [
       "<__main__.C at 0x1eb759a0400>"
      ]
     },
     "execution_count": 62,
     "metadata": {},
     "output_type": "execute_result"
    }
   ],
   "source": [
    "C()"
   ]
  },
  {
   "cell_type": "markdown",
   "metadata": {},
   "source": [
    "## 메타 클래스 (Meta Class)\n",
    "\n",
    "개념적으로, 메타 클래스는 클래스의 클래스이다. 기존에 존재하는 클래스를 확장시키기 위해 주로 사용한다. 앞에서 `type` 함수로 새로운 타입 즉, 클래스를 정의할 수 있는 것을 확인했었다."
   ]
  },
  {
   "cell_type": "code",
   "execution_count": 63,
   "metadata": {},
   "outputs": [],
   "source": [
    "MyA = type('A', (), {'name': 'My A Class', 'age': 1})"
   ]
  },
  {
   "cell_type": "markdown",
   "metadata": {},
   "source": [
    "분명 `type`함수는 객체의 타입을 알아내기 위해 사용했던 함수로 사용했었지만, 사실 `type` 또한 메타 클래스이다.\n",
    "\n",
    "기본적으로, 클래스는 `type()`을 사용해서 만들어진다. 클래스의 구현체는 새 이름 공간(namespace)에서 실행된다."
   ]
  },
  {
   "cell_type": "code",
   "execution_count": 64,
   "metadata": {},
   "outputs": [],
   "source": [
    "MyB = type('B', (MyA,), {'name': 'My B Class', 'age': 2})"
   ]
  },
  {
   "cell_type": "markdown",
   "metadata": {},
   "source": [
    "`type`의 독스트링에는 다음과 같이 정의되어있다."
   ]
  },
  {
   "cell_type": "code",
   "execution_count": 65,
   "metadata": {},
   "outputs": [],
   "source": [
    "?type"
   ]
  },
  {
   "cell_type": "markdown",
   "metadata": {},
   "source": [
    "- type(object_or_name, bases, dict)\n",
    "- type(object) -> the object's type\n",
    "- type(name, bases, dict) -> a new type\n",
    "\n",
    "인자값으로 객체만 넣어주었을 경우, 그 객체의 타입을 반환하지만 인자값으로 객체의 이름, 상위 객체들, 기본 파라미터를 넣어주면 새로운 타입을 반환해준다."
   ]
  },
  {
   "cell_type": "code",
   "execution_count": 66,
   "metadata": {},
   "outputs": [
    {
     "data": {
      "text/plain": [
       "__main__.A"
      ]
     },
     "execution_count": 66,
     "metadata": {},
     "output_type": "execute_result"
    }
   ],
   "source": [
    "MyA"
   ]
  },
  {
   "cell_type": "code",
   "execution_count": 67,
   "metadata": {},
   "outputs": [],
   "source": [
    "my_a = MyA()"
   ]
  },
  {
   "cell_type": "code",
   "execution_count": 68,
   "metadata": {},
   "outputs": [
    {
     "data": {
      "text/plain": [
       "<__main__.A at 0x1eb759a06a0>"
      ]
     },
     "execution_count": 68,
     "metadata": {},
     "output_type": "execute_result"
    }
   ],
   "source": [
    "my_a"
   ]
  },
  {
   "cell_type": "code",
   "execution_count": 69,
   "metadata": {},
   "outputs": [
    {
     "data": {
      "text/plain": [
       "['__class__',\n",
       " '__delattr__',\n",
       " '__dict__',\n",
       " '__dir__',\n",
       " '__doc__',\n",
       " '__eq__',\n",
       " '__format__',\n",
       " '__ge__',\n",
       " '__getattribute__',\n",
       " '__gt__',\n",
       " '__hash__',\n",
       " '__init__',\n",
       " '__init_subclass__',\n",
       " '__le__',\n",
       " '__lt__',\n",
       " '__module__',\n",
       " '__ne__',\n",
       " '__new__',\n",
       " '__reduce__',\n",
       " '__reduce_ex__',\n",
       " '__repr__',\n",
       " '__setattr__',\n",
       " '__sizeof__',\n",
       " '__str__',\n",
       " '__subclasshook__',\n",
       " '__weakref__',\n",
       " 'age',\n",
       " 'name']"
      ]
     },
     "execution_count": 69,
     "metadata": {},
     "output_type": "execute_result"
    }
   ],
   "source": [
    "dir(my_a)"
   ]
  },
  {
   "cell_type": "code",
   "execution_count": 70,
   "metadata": {},
   "outputs": [
    {
     "data": {
      "text/plain": [
       "'My A Class'"
      ]
     },
     "execution_count": 70,
     "metadata": {},
     "output_type": "execute_result"
    }
   ],
   "source": [
    "my_a.name"
   ]
  },
  {
   "cell_type": "code",
   "execution_count": 71,
   "metadata": {},
   "outputs": [
    {
     "data": {
      "text/plain": [
       "1"
      ]
     },
     "execution_count": 71,
     "metadata": {},
     "output_type": "execute_result"
    }
   ],
   "source": [
    "my_a.age"
   ]
  },
  {
   "cell_type": "code",
   "execution_count": 72,
   "metadata": {},
   "outputs": [],
   "source": [
    "my_b = MyB()"
   ]
  },
  {
   "cell_type": "code",
   "execution_count": 74,
   "metadata": {},
   "outputs": [
    {
     "data": {
      "text/plain": [
       "<__main__.B at 0x1eb7598c4a8>"
      ]
     },
     "execution_count": 74,
     "metadata": {},
     "output_type": "execute_result"
    }
   ],
   "source": [
    "my_b"
   ]
  },
  {
   "cell_type": "code",
   "execution_count": 75,
   "metadata": {
    "scrolled": true
   },
   "outputs": [
    {
     "data": {
      "text/plain": [
       "['__class__',\n",
       " '__delattr__',\n",
       " '__dict__',\n",
       " '__dir__',\n",
       " '__doc__',\n",
       " '__eq__',\n",
       " '__format__',\n",
       " '__ge__',\n",
       " '__getattribute__',\n",
       " '__gt__',\n",
       " '__hash__',\n",
       " '__init__',\n",
       " '__init_subclass__',\n",
       " '__le__',\n",
       " '__lt__',\n",
       " '__module__',\n",
       " '__ne__',\n",
       " '__new__',\n",
       " '__reduce__',\n",
       " '__reduce_ex__',\n",
       " '__repr__',\n",
       " '__setattr__',\n",
       " '__sizeof__',\n",
       " '__str__',\n",
       " '__subclasshook__',\n",
       " '__weakref__',\n",
       " 'age',\n",
       " 'name']"
      ]
     },
     "execution_count": 75,
     "metadata": {},
     "output_type": "execute_result"
    }
   ],
   "source": [
    "dir(my_b)"
   ]
  },
  {
   "cell_type": "code",
   "execution_count": 76,
   "metadata": {},
   "outputs": [
    {
     "data": {
      "text/plain": [
       "'My B Class'"
      ]
     },
     "execution_count": 76,
     "metadata": {},
     "output_type": "execute_result"
    }
   ],
   "source": [
    "my_b.name"
   ]
  },
  {
   "cell_type": "code",
   "execution_count": 77,
   "metadata": {},
   "outputs": [
    {
     "data": {
      "text/plain": [
       "2"
      ]
     },
     "execution_count": 77,
     "metadata": {},
     "output_type": "execute_result"
    }
   ],
   "source": [
    "my_b.age"
   ]
  },
  {
   "cell_type": "markdown",
   "metadata": {},
   "source": [
    "메타 클래스를 만들 때는 다음과 같이 `type`을 상속받는다."
   ]
  },
  {
   "cell_type": "code",
   "execution_count": 78,
   "metadata": {},
   "outputs": [],
   "source": [
    "class ModelMetaclass(type):\n",
    "    def __new__(cls, name, bases, attrs):\n",
    "        if name == 'Model':\n",
    "            print('ModelMetaclass')\n",
    "            return type.__new__(cls, name, bases, attrs)\n",
    "        return type.__new__(cls, name, bases, attrs)"
   ]
  },
  {
   "cell_type": "markdown",
   "metadata": {},
   "source": [
    "클래스 이름은 `type(name, bases, namespace)`의 결과에 지역적으로 연결된다. 위의 예에서는 클래스명이 `Model`일 경우, `ModelMetaclass`라는 메시지를 출력하도록 하였다.\n",
    "\n",
    "다음으로 메타 클래스를 사용하여 기능을 확장시키는 클래스를 구현한다. 클래스를 만드는 과정은 클래스 정의 줄에 `metaclass` 키워드 인자를 전달하거나, 그런 인자를 포함한 이미 존재하는 클래스를 상속함으로써 커스터마이즈될 수 있다. 다음과 같이 `metaclass=클래스명`를 넣어준다."
   ]
  },
  {
   "cell_type": "code",
   "execution_count": 79,
   "metadata": {},
   "outputs": [
    {
     "name": "stdout",
     "output_type": "stream",
     "text": [
      "ModelMetaclass\n"
     ]
    }
   ],
   "source": [
    "class Model(metaclass=ModelMetaclass):\n",
    "    def __init__(self):\n",
    "        print('call __init__')"
   ]
  },
  {
   "cell_type": "code",
   "execution_count": 80,
   "metadata": {},
   "outputs": [],
   "source": [
    "class MyModel(metaclass=ModelMetaclass):\n",
    "    def __init__(self):\n",
    "        print('MyClass')"
   ]
  },
  {
   "cell_type": "markdown",
   "metadata": {},
   "source": [
    "## 추상 클래스 (Abstract Class)\n",
    "\n",
    "추상 클래스는 미완성 메소드(추상 메소드)를 포함하고 있는 클래스를 의미하며, 일반적인 객체지향 언어에서 추상 클래스는 인스턴스화 할 수 없으며, 상속을 통해 하위 클래스에 의해서 완성될 수 있다.\n",
    "\n",
    "추상 클래스를 구현할 때 자바같은 경우, 클래스 앞에 `abstract` 키워드를 붙여서 사용한다. 파이썬에서는 추상 클래스를 구현할 때는 `ABC`를 사용한다."
   ]
  },
  {
   "cell_type": "markdown",
   "metadata": {},
   "source": [
    "### ABC\n",
    "\n",
    "메타 클래스를 사용하지 않고 추상 베이스 클래스를 간단히 `ABC`에서 파생시켜서 만들 수 있다."
   ]
  },
  {
   "cell_type": "code",
   "execution_count": 81,
   "metadata": {},
   "outputs": [],
   "source": [
    "from abc import ABC"
   ]
  },
  {
   "cell_type": "code",
   "execution_count": 82,
   "metadata": {},
   "outputs": [],
   "source": [
    "class MyABC(ABC):\n",
    "    pass"
   ]
  },
  {
   "cell_type": "markdown",
   "metadata": {},
   "source": [
    "`ABC`의 형은 여전히 `ABCMeta`이므로, `ABC`를 상속할 때는 메타 클래스 사용에 관한 일반적인 주의가 필요한데, 다중 상속이 메타 클래스 충돌을 일으킬 수 있기 때문이다. `metaclass` 키워드를 전달하고 `ABCMeta`를 직접 사용해서 추상 베이스 클래스를 정의할 수도 있다."
   ]
  },
  {
   "cell_type": "code",
   "execution_count": 83,
   "metadata": {},
   "outputs": [],
   "source": [
    "from abc import ABCMeta"
   ]
  },
  {
   "cell_type": "code",
   "execution_count": 84,
   "metadata": {},
   "outputs": [],
   "source": [
    "class MyABC(metaclass=ABCMeta):\n",
    "    pass"
   ]
  },
  {
   "cell_type": "markdown",
   "metadata": {},
   "source": [
    "### ABCMeta\n",
    "\n",
    "`ABCMeta`는 `추상 베이스 클래스 (ABC)`를 정의하기 위한 메타 클래스이다."
   ]
  },
  {
   "cell_type": "code",
   "execution_count": 85,
   "metadata": {},
   "outputs": [],
   "source": [
    "class MyABC(ABC):\n",
    "    pass"
   ]
  },
  {
   "cell_type": "markdown",
   "metadata": {},
   "source": [
    "`ABCMeta`를 메타 클래스로 생성된 클래스는 다음과 같이 `register`라는 메서드를 가진다. `register` 메소드를 통해 서브 클래스를 가질 수 있다."
   ]
  },
  {
   "cell_type": "code",
   "execution_count": 86,
   "metadata": {},
   "outputs": [
    {
     "data": {
      "text/plain": [
       "tuple"
      ]
     },
     "execution_count": 86,
     "metadata": {},
     "output_type": "execute_result"
    }
   ],
   "source": [
    "MyABC.register(tuple)"
   ]
  },
  {
   "cell_type": "code",
   "execution_count": 87,
   "metadata": {},
   "outputs": [],
   "source": [
    "assert issubclass(tuple, MyABC)"
   ]
  },
  {
   "cell_type": "code",
   "execution_count": 88,
   "metadata": {},
   "outputs": [],
   "source": [
    "assert isinstance((), MyABC)"
   ]
  },
  {
   "cell_type": "markdown",
   "metadata": {},
   "source": [
    "`__subclasshook__`메소드는 `subclass`를 이 `ABC`의 서브 클래스로 간주할지를 체크한다. `ABC`의 서브 클래스로 취급하고 싶은 클래스마다 `register()`를 호출할 필요 없이 `issubclass`처럼 사용할 수 있음을 의미한다. (이 클래스 메소드는 `ABC`의 `__subclasscheck__()` 메소드에서 호출된다.)\n",
    "\n",
    "이 메서드는 `True`, `False` 또는 `NotImplemented`를 반환해야 한다. `True`를 반환하면 `subclass`를 ABC의 서브 클래스로 간주하며, `False` 를 반환하면 `subclass`를 ABC의 서브 클래스로 간주하지 않는다. `NotImplemented`를 반환하면 서브 클래스 체크가 동일한 순서로 진행된다."
   ]
  },
  {
   "cell_type": "code",
   "execution_count": 89,
   "metadata": {},
   "outputs": [],
   "source": [
    "class Foo:\n",
    "    def __getitem__(self, index):\n",
    "        pass\n",
    "\n",
    "    def __len__(self):\n",
    "        pass\n",
    "\n",
    "    def get_iterator(self):\n",
    "        return iter(self)"
   ]
  },
  {
   "cell_type": "markdown",
   "metadata": {},
   "source": [
    "`abstractmethod`는 추상 메소드를 나타내는 데코레이터이다."
   ]
  },
  {
   "cell_type": "code",
   "execution_count": 90,
   "metadata": {},
   "outputs": [],
   "source": [
    "from abc import abstractmethod"
   ]
  },
  {
   "cell_type": "code",
   "execution_count": 92,
   "metadata": {},
   "outputs": [],
   "source": [
    "class MyIterable(ABC):\n",
    "\n",
    "    @abstractmethod\n",
    "    def __iter__(self):\n",
    "        while False:\n",
    "            yield None\n",
    "\n",
    "    def get_iterator(self):\n",
    "        return self.__iter__()\n",
    "\n",
    "    @classmethod\n",
    "    def __subclasshook__(cls, C):\n",
    "        if cls is MyIterable:\n",
    "            if any(\"__iter__\" in B.__dict__ for B in C.__mro__):\n",
    "                return True\n",
    "        return NotImplemented"
   ]
  },
  {
   "cell_type": "code",
   "execution_count": 93,
   "metadata": {},
   "outputs": [
    {
     "data": {
      "text/plain": [
       "__main__.Foo"
      ]
     },
     "execution_count": 93,
     "metadata": {},
     "output_type": "execute_result"
    }
   ],
   "source": [
    "MyIterable.register(Foo)"
   ]
  },
  {
   "cell_type": "markdown",
   "metadata": {},
   "source": [
    "만약 `staticmethod`와 `classmethod`를 추상 메소드로 만들고 싶다면 다음과 같이 사용할 수 있다."
   ]
  },
  {
   "cell_type": "code",
   "execution_count": 94,
   "metadata": {},
   "outputs": [],
   "source": [
    "class C(ABC):\n",
    "    @abstractmethod\n",
    "    def my_abstract_method(self):\n",
    "        pass\n",
    "\n",
    "    @classmethod\n",
    "    @abstractmethod\n",
    "    def my_abstract_classmethod(cls):\n",
    "        pass\n",
    "\n",
    "    @staticmethod\n",
    "    @abstractmethod\n",
    "    def my_abstract_staticmethod():\n",
    "        pass\n",
    "\n",
    "    @property\n",
    "    @abstractmethod\n",
    "    def my_abstract_property(self):\n",
    "        pass\n",
    "\n",
    "    @my_abstract_property.setter\n",
    "    @abstractmethod\n",
    "    def my_abstract_property(self, val):\n",
    "        pass\n",
    "\n",
    "    @abstractmethod\n",
    "    def _get_x(self):\n",
    "        pass\n",
    "\n",
    "    @abstractmethod\n",
    "    def _set_x(self, val):\n",
    "        pass\n",
    "\n",
    "    x = property(_get_x, _set_x)"
   ]
  }
 ],
 "metadata": {
  "kernelspec": {
   "display_name": "Python 3",
   "language": "python",
   "name": "python3"
  },
  "language_info": {
   "codemirror_mode": {
    "name": "ipython",
    "version": 3
   },
   "file_extension": ".py",
   "mimetype": "text/x-python",
   "name": "python",
   "nbconvert_exporter": "python",
   "pygments_lexer": "ipython3",
   "version": "3.7.3"
  }
 },
 "nbformat": 4,
 "nbformat_minor": 2
}
