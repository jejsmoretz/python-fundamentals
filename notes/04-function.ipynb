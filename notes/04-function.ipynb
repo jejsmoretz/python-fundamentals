{
 "cells": [
  {
   "cell_type": "markdown",
   "metadata": {},
   "source": [
    "# 함수 (Function)"
   ]
  },
  {
   "cell_type": "markdown",
   "metadata": {},
   "source": [
    "## Defining, calling & passing\n",
    "\n",
    "- <b>parameter (매개변수)</b>\n",
    "  - 함수 (또는 메서드) 정의에서 함수가 받을 수 있는 인자 (또는 어떤 경우 인자들) 를 지정하는 이름 붙은 엔티티. 다섯 종류의 매개변수가 있다.\n",
    "    - 위치-키워드 (positional-or-keyword): `위치 인자`나 `키워드 인자`로 전달될 수 있는 인자를 지정한다. 이것이 기본 형태의 매개변수이다. 예를 들어 다음에서 `foo`와 `bar`는:\n",
    "```python\n",
    "    def func(foo, bar=None): \n",
    "        ...\n",
    "```\n",
    "    - 위치-전용 (positional-only): `위치로만 제공`될 수 있는 인자를 지정한다. 파이썬은 위치-전용 매개변수를 정의하는 문법을 갖고 있지 않다. 하지만, 어떤 매장 함수들은 위치-전용 매개변수를 갖는다 (예를 들어, abs()).\n",
    "    - 키워드-전용 (keyword-only): `키워드로만 제공`될 수 있는 인자를 지정한다. 키워드-전용 매개변수는 함수 정의의 매개변수 목록에서 앞에 하나의 가변-위치 매개변수나 `*`를 그대로 포함해서 정의할 수 있다. 예를 들어, 다음에서\n",
    "`kw_only1` 와 `kw_only2`는:\n",
    "```python\n",
    "    def func(arg, *, kw_only1, kw_only2): \n",
    "        ...\n",
    "```\n",
    "    - 가변-위치 (var-positional): `(다른 매개변수들에 의해서 이미 받아들여진 위치 인자들에 더해) 제공`될 수 있는 위치 인자들의 임의의 시퀀스를 지정한다. 이런 매개변수는 매개변수 이름에 `*`를 앞에 붙여서 정의될 수 있다. 예를 들\n",
    "어 다음에서 `args`는:\n",
    "```python\n",
    "    def func(*args, **kwargs): \n",
    "        ...\n",
    "```\n",
    "    - 가변-키워드 (var-keyword): `(다른 매개변수들에 의해서 이미 받아들여진 키워드 인자들에 더해) 제공`될 수 있는 임의의 개수 키워드 인자들을 지정한다. 이런 매개변수는 매개변수 이름에 `**`를 앞에 붙여서 정의될 수 있다. 위의 예시의 `kwargs`가 그 예이다.\n",
    "- <b>매개변수는 선택적 인자들을 위한 기본값뿐만 아니라 선택적이거나 필수 인자들을 지정할 수 있다.</b>\n",
    "\n",
    "- Can be called both with `positional` and with `keyword` arguments\n",
    "- Can be defined with `default` arguments\n",
    "- Functions always return a value\n",
    "    - `None` if nothing is returned explicity"
   ]
  },
  {
   "cell_type": "code",
   "execution_count": 1,
   "metadata": {},
   "outputs": [],
   "source": [
    "def roots(value):\n",
    "    from math import sqrt\n",
    "    result = sqrt(value)\n",
    "    return result, -result"
   ]
  },
  {
   "cell_type": "code",
   "execution_count": 2,
   "metadata": {},
   "outputs": [
    {
     "data": {
      "text/plain": [
       "(1.4142135623730951, -1.4142135623730951)"
      ]
     },
     "execution_count": 2,
     "metadata": {},
     "output_type": "execute_result"
    }
   ],
   "source": [
    "roots(2)"
   ]
  },
  {
   "cell_type": "code",
   "execution_count": 3,
   "metadata": {},
   "outputs": [],
   "source": [
    "def a():\n",
    "    return 0"
   ]
  },
  {
   "cell_type": "code",
   "execution_count": 4,
   "metadata": {},
   "outputs": [],
   "source": [
    "def b():\n",
    "    print(0)"
   ]
  },
  {
   "cell_type": "code",
   "execution_count": 5,
   "metadata": {},
   "outputs": [
    {
     "name": "stdout",
     "output_type": "stream",
     "text": [
      "0\n"
     ]
    },
    {
     "ename": "TypeError",
     "evalue": "unsupported operand type(s) for +: 'NoneType' and 'int'",
     "output_type": "error",
     "traceback": [
      "\u001b[1;31m---------------------------------------------------------------------------\u001b[0m",
      "\u001b[1;31mTypeError\u001b[0m                                 Traceback (most recent call last)",
      "\u001b[1;32m<ipython-input-5-afad6390699a>\u001b[0m in \u001b[0;36m<module>\u001b[1;34m\u001b[0m\n\u001b[0;32m      1\u001b[0m \u001b[0ma\u001b[0m\u001b[1;33m(\u001b[0m\u001b[1;33m)\u001b[0m \u001b[1;33m+\u001b[0m \u001b[1;36m1\u001b[0m \u001b[1;31m# Yes\u001b[0m\u001b[1;33m\u001b[0m\u001b[1;33m\u001b[0m\u001b[0m\n\u001b[1;32m----> 2\u001b[1;33m \u001b[0mb\u001b[0m\u001b[1;33m(\u001b[0m\u001b[1;33m)\u001b[0m \u001b[1;33m+\u001b[0m \u001b[1;36m1\u001b[0m \u001b[1;31m# No\u001b[0m\u001b[1;33m\u001b[0m\u001b[1;33m\u001b[0m\u001b[0m\n\u001b[0m",
      "\u001b[1;31mTypeError\u001b[0m: unsupported operand type(s) for +: 'NoneType' and 'int'"
     ]
    }
   ],
   "source": [
    "a() + 1 # Yes\n",
    "b() + 1 # No"
   ]
  },
  {
   "cell_type": "markdown",
   "metadata": {},
   "source": [
    "- any object that is callable can be treated as a function\n",
    "    - callable is a built-in predicate function\n",
    "      - A `predicate function` is a function which purpose is to assert, such as something being either `true` or `false`."
   ]
  },
  {
   "cell_type": "code",
   "execution_count": 6,
   "metadata": {},
   "outputs": [],
   "source": [
    "def is_at_origin(x, y):\n",
    "    return x == y== 0"
   ]
  },
  {
   "cell_type": "code",
   "execution_count": 7,
   "metadata": {},
   "outputs": [
    {
     "data": {
      "text/plain": [
       "False"
      ]
     },
     "execution_count": 7,
     "metadata": {},
     "output_type": "execute_result"
    }
   ],
   "source": [
    "is_at_origin(0, 1)"
   ]
  },
  {
   "cell_type": "code",
   "execution_count": 8,
   "metadata": {},
   "outputs": [],
   "source": [
    "def does_nothing():\n",
    "    pass"
   ]
  },
  {
   "cell_type": "code",
   "execution_count": 9,
   "metadata": {},
   "outputs": [],
   "source": [
    "assert callable(does_nothing)"
   ]
  },
  {
   "cell_type": "code",
   "execution_count": 10,
   "metadata": {},
   "outputs": [],
   "source": [
    "assert does_nothing() is None"
   ]
  },
  {
   "cell_type": "code",
   "execution_count": 11,
   "metadata": {},
   "outputs": [],
   "source": [
    "unsorted = ['Python', 'parrot']"
   ]
  },
  {
   "cell_type": "code",
   "execution_count": 12,
   "metadata": {},
   "outputs": [
    {
     "name": "stdout",
     "output_type": "stream",
     "text": [
      "['parrot', 'Python']\n"
     ]
    }
   ],
   "source": [
    "print(sorted(unsorted, key=str.lower)) # Keyword argument"
   ]
  },
  {
   "cell_type": "code",
   "execution_count": 13,
   "metadata": {},
   "outputs": [],
   "source": [
    "def is_even(number):\n",
    "    return number % 2 == 0"
   ]
  },
  {
   "cell_type": "code",
   "execution_count": 14,
   "metadata": {},
   "outputs": [],
   "source": [
    "def print_if(values, predicate):\n",
    "    for value in values:\n",
    "        if predicate(value):\n",
    "            print(value)"
   ]
  },
  {
   "cell_type": "code",
   "execution_count": 15,
   "metadata": {},
   "outputs": [
    {
     "name": "stdout",
     "output_type": "stream",
     "text": [
      "2\n",
      "2\n",
      "4\n",
      "8\n"
     ]
    }
   ],
   "source": [
    "print_if([2, 9, 9, 7, 9, 2, 4, 5, 8], is_even)"
   ]
  },
  {
   "cell_type": "markdown",
   "metadata": {},
   "source": [
    "- Function definitions can be nested\n",
    "  - Each invocation is bound to its surrounding scope, i.e., it's a closure"
   ]
  },
  {
   "cell_type": "code",
   "execution_count": 16,
   "metadata": {},
   "outputs": [],
   "source": [
    "def logged_execution(action, output):\n",
    "    def log(message):\n",
    "        print(message, action.__name__, file=output)\n",
    "        \n",
    "    log('About to execute')\n",
    "    try:\n",
    "        action()\n",
    "        log('Successfully executed')\n",
    "    except:\n",
    "        log('Failed to execute')\n",
    "        raise"
   ]
  },
  {
   "cell_type": "code",
   "execution_count": 17,
   "metadata": {},
   "outputs": [],
   "source": [
    "world = 'Hello'"
   ]
  },
  {
   "cell_type": "code",
   "execution_count": 18,
   "metadata": {},
   "outputs": [],
   "source": [
    "def outer_function():\n",
    "    def nested_function():\n",
    "        nonlocal world # Refers to any world that will be assigned-\n",
    "        # in within outer_function,\n",
    "        # but not the global world\n",
    "        world = 'Ho'\n",
    "    \n",
    "    world = 'Hi'\n",
    "    print(world)\n",
    "    nested_function()\n",
    "    print(world)"
   ]
  },
  {
   "cell_type": "code",
   "execution_count": 19,
   "metadata": {},
   "outputs": [
    {
     "name": "stdout",
     "output_type": "stream",
     "text": [
      "Hi\n",
      "Ho\n",
      "Hello\n"
     ]
    }
   ],
   "source": [
    "outer_function()\n",
    "print(world)"
   ]
  },
  {
   "cell_type": "markdown",
   "metadata": {},
   "source": [
    "\n",
    "- The defaults will be substituted for corresponding missing arguments\n",
    "  - Non-defaulted arguments cannot follow defaulted arguments in the definition\n",
    "- Defaults evaluated once, on definition, and held within the function object\n",
    "  - Avoid using mutable objects as defaults, because any changes will persist between function calls\n",
    "  - Avoid referring to other parameters in the parameter list — this will either not work at all or will appear to work, but using a name from an outer scope"
   ]
  },
  {
   "cell_type": "code",
   "execution_count": 20,
   "metadata": {},
   "outputs": [],
   "source": [
    "def line_length(x=0, y=0, z=0):\n",
    "    return (x**2 + y**2 + z**2)**0.5"
   ]
  },
  {
   "cell_type": "code",
   "execution_count": 21,
   "metadata": {},
   "outputs": [
    {
     "data": {
      "text/plain": [
       "9.0"
      ]
     },
     "execution_count": 21,
     "metadata": {},
     "output_type": "execute_result"
    }
   ],
   "source": [
    "line_length()\n",
    "line_length(42)\n",
    "line_length(3, 4)\n",
    "line_length(1, 4, 8)"
   ]
  },
  {
   "cell_type": "code",
   "execution_count": 22,
   "metadata": {},
   "outputs": [],
   "source": [
    "import time"
   ]
  },
  {
   "cell_type": "code",
   "execution_count": 23,
   "metadata": {},
   "outputs": [],
   "source": [
    "def report_arg(my_default=time.time()):\n",
    "    print(my_default)"
   ]
  },
  {
   "cell_type": "code",
   "execution_count": 24,
   "metadata": {},
   "outputs": [
    {
     "name": "stdout",
     "output_type": "stream",
     "text": [
      "1562575263.3760448\n",
      "1562575263.3760448\n"
     ]
    }
   ],
   "source": [
    "report_arg()\n",
    "time.sleep(5)\n",
    "report_arg()"
   ]
  },
  {
   "cell_type": "code",
   "execution_count": 25,
   "metadata": {},
   "outputs": [],
   "source": [
    "def append_to_list(value, def_list=[]):\n",
    "    def_list.append(value)\n",
    "    return def_list"
   ]
  },
  {
   "cell_type": "code",
   "execution_count": 26,
   "metadata": {},
   "outputs": [
    {
     "name": "stdout",
     "output_type": "stream",
     "text": [
      "[1]\n"
     ]
    }
   ],
   "source": [
    "my_list = append_to_list(1)\n",
    "print(my_list)"
   ]
  },
  {
   "cell_type": "code",
   "execution_count": 27,
   "metadata": {},
   "outputs": [
    {
     "name": "stdout",
     "output_type": "stream",
     "text": [
      "[1, 2]\n"
     ]
    }
   ],
   "source": [
    "my_other_list = append_to_list(2)\n",
    "print(my_other_list)"
   ]
  },
  {
   "cell_type": "markdown",
   "metadata": {},
   "source": [
    "- A function can be defined to take a variable argument list\n",
    "  - Variadic arguments passed in as a tuple\n",
    "  - Variadic parameter declared using * after any mandatory positional arguments\n",
    "  - This syntax also works in assignments"
   ]
  },
  {
   "cell_type": "code",
   "execution_count": 28,
   "metadata": {},
   "outputs": [],
   "source": [
    "def mean(value, *values):\n",
    "    return sum(values, value) / (1 + len(values))"
   ]
  },
  {
   "cell_type": "markdown",
   "metadata": {},
   "source": [
    "- To apply values from an iterable, e.g., a tuple, as arguments, unpack using *\n",
    "   - The iterable is expanded to become the argument list at the point of call"
   ]
  },
  {
   "cell_type": "code",
   "execution_count": 29,
   "metadata": {},
   "outputs": [],
   "source": [
    "def line_length(x, y, z):\n",
    "    return (x**2 + y**2 + z**2)**0.5"
   ]
  },
  {
   "cell_type": "code",
   "execution_count": 30,
   "metadata": {},
   "outputs": [],
   "source": [
    "point = (2, 3, 6)\n",
    "length = line_length(*point)"
   ]
  },
  {
   "cell_type": "code",
   "execution_count": 31,
   "metadata": {},
   "outputs": [
    {
     "data": {
      "text/plain": [
       "(2, 3, 6)"
      ]
     },
     "execution_count": 31,
     "metadata": {},
     "output_type": "execute_result"
    }
   ],
   "source": [
    "point"
   ]
  },
  {
   "cell_type": "code",
   "execution_count": 32,
   "metadata": {},
   "outputs": [
    {
     "data": {
      "text/plain": [
       "7.0"
      ]
     },
     "execution_count": 32,
     "metadata": {},
     "output_type": "execute_result"
    }
   ],
   "source": [
    "length"
   ]
  },
  {
   "cell_type": "markdown",
   "metadata": {},
   "source": [
    "- Reduce the need for chained builder calls and parameter objects\n",
    "  - Keep in mind that the argument names form part of the function's public interface\n",
    "  - Arguments following a variadic parameter are necessarily keyword arguments\n",
    "- A function can be defined to receive arbitrary keyword arguments\n",
    "  - These follow the specification of any other parameters, including variadic\n",
    "  - Use ** to both specify and unpack\n",
    "- Keyword arguments are passed in a dict — a keyword becomes a key\n",
    "  - Except any keyword arguments that already correspond to formal parameters"
   ]
  },
  {
   "cell_type": "code",
   "execution_count": 33,
   "metadata": {},
   "outputs": [],
   "source": [
    "def date(year, month, day):\n",
    "    return year, month, day"
   ]
  },
  {
   "cell_type": "code",
   "execution_count": 34,
   "metadata": {},
   "outputs": [],
   "source": [
    "sputnik_1 = date(1957, 10, 4)\n",
    "sputnik_1 = date(day=4, month=10, year=1957)"
   ]
  },
  {
   "cell_type": "code",
   "execution_count": 35,
   "metadata": {},
   "outputs": [],
   "source": [
    "def present(*listing, **header):\n",
    "    for tag, info in header.items():\n",
    "        print(tag + ': ' + info)\n",
    "    for item in listing:\n",
    "        print(item)"
   ]
  },
  {
   "cell_type": "code",
   "execution_count": 36,
   "metadata": {},
   "outputs": [
    {
     "name": "stdout",
     "output_type": "stream",
     "text": [
      "type: Terrestrial\n",
      "star: Sol\n",
      "Mercury\n",
      "Venus\n",
      "Earth\n",
      "Mars\n"
     ]
    }
   ],
   "source": [
    "present('Mercury', 'Venus', 'Earth', 'Mars', type='Terrestrial', star='Sol')"
   ]
  },
  {
   "cell_type": "markdown",
   "metadata": {},
   "source": [
    "## Documentation strings\n",
    "\n",
    "- first statement of a function, class or module can optionally be a string\n",
    "  - This docstring can be accessed via __doc__ on the object and is used by IDEs and the help function\n",
    "  - Conventionally, one or more complete sentences enclosed in triple quotes"
   ]
  },
  {
   "cell_type": "code",
   "execution_count": 37,
   "metadata": {},
   "outputs": [],
   "source": [
    "def echo(strings):\n",
    "    \"\"\"Prints space-adjoined sequence of strings.\"\"\"\n",
    "    print(' '.join(strings))"
   ]
  },
  {
   "cell_type": "markdown",
   "metadata": {},
   "source": [
    "- 도큐멘테이션 문자열의 내용과 포매팅에 관한 몇 가지 관례\n",
    "  - 첫 줄은 항상 객체의 목적을 짧고 간결하게 요약해야 한다. 간결함을 위해 객체의 이름이나 형을 명시적으로 언급하지 않아야 하는데, 이는 다른 방법으로 제공되기 때문이다 (이름이 함수의 작업을 설명하는 동사라면 예외). 이 줄은 대문자로 시작하고 마침표로 끝나야 한다.\n",
    "  - 도큐멘테이션 문자열에 여러 줄이 있다면 두 번째 줄은 비어있기 때문에 시각적으로 요약과 나머지 설명을 분리해야 한다. 뒤따르는 줄들은 하나나 그 이상의 문단으로, 객체의 호출 규약, 부작용 등을 설명해야 한다.\n",
    "  - 파이썬 파서는 여러 줄 문자열 리터럴에서 들여쓰기를 제거하지 않기 때문에 도큐멘테이션을 처리하는 도구들은 필요하면 들여쓰기를 제거한다. 이것은 다음과 같은 관례를 사용한다. \n",
    "    - 문자열의 첫줄 뒤에 오는 첫 번째 비어있지 않은 줄이 전체 도튜멘테이션 문자열의 들여쓰기 수준을 결정한다. (우리는 첫줄을 사용할 수 없는데, 일반적으로 문자열을 시작하는 따옴표에 붙어있어서 들여쓰기가 문자열 리터럴의 것을 반영하지 않기 때문이다.) 이 들여쓰기와 `동등한` 공백이 문자열의 모든 줄의 시작 부분에서 제거된다. 덜 들여쓰기 된 줄이 나타나지는 말아야 하지만, 나타난다면 모든 앞부분의 공백이 제거된다. 공백의 동등성은 탭 확장 (보통 8개의 스페이스) 후에 검사된다."
   ]
  },
  {
   "cell_type": "markdown",
   "metadata": {},
   "source": [
    "## Scope\n",
    "\n",
    "- Variables are introduced in the smallest enclosing scope\n",
    "  - Parameter names are local to their corresponding construct (i.e., module, function, lambda or comprehension)\n",
    "- To assign to a global from within a function, declare it global in the function\n",
    "  - Control-flow constructs, such as for, do not define scopes\n",
    "  - del removes a name from a scope"
   ]
  },
  {
   "cell_type": "markdown",
   "metadata": {},
   "source": [
    "## Annotations\n",
    "\n",
    "- annotation (어노테이션)관습에 따라 `형 힌트`로 사용되는 변수, 클래스 어트리뷰트 또는 함수 매개변수 나 반환 값과 연결된 레이블입니다.\n",
    "  - 지역 변수의 어노테이션은 실행 시간에 액세스할 수 없지만, 전역 변수, 클래스 속성 및 함수의 어노테이션은 각각 모듈, 클래스, 함수의 `__annotations__` 특수 어트리뷰트에 저장됩니다.\n",
    "  - 이 기능을 설명하는 변수 어노테이션, 함수 어노테이션, PEP 484, PEP 526을 참조하세요.\n",
    "- A function's parameters and its result can be annotated with expressions\n",
    "  - No semantic effect, but are associated with the function object as metadata, typically for documentation purposes"
   ]
  },
  {
   "cell_type": "code",
   "execution_count": 38,
   "metadata": {},
   "outputs": [],
   "source": [
    "def f(ham: str, eggs: str = 'eggs') -> str:\n",
    "    print(\"Annotations:\", f.__annotations__)\n",
    "    print(\"Arguments:\", ham, eggs)\n",
    "    return ham + ' and ' + eggs"
   ]
  },
  {
   "cell_type": "code",
   "execution_count": 39,
   "metadata": {},
   "outputs": [
    {
     "name": "stdout",
     "output_type": "stream",
     "text": [
      "Annotations: {'ham': <class 'str'>, 'eggs': <class 'str'>, 'return': <class 'str'>}\n",
      "Arguments: spam eggs\n"
     ]
    },
    {
     "data": {
      "text/plain": [
       "'spam and eggs'"
      ]
     },
     "execution_count": 39,
     "metadata": {},
     "output_type": "execute_result"
    }
   ],
   "source": [
    "f('spam')"
   ]
  },
  {
   "cell_type": "markdown",
   "metadata": {},
   "source": [
    "- `함수 어노테이션`은 사용자 정의 함수가 사용하는 형들에 대한 완전히 선택적인 메타데이터 정보이다 (자세한 내용은 PEP 3107 과 PEP 484를 참고).\n",
    "- 어노테이션은 함수의 `__annotations__` 어트리뷰트에 딕셔너리로 저장되고 함수의 다른 부분에는 아무런 영향을 미치지 않는다. 매개변수 어노테이션은 매개변수 이름 뒤에 오는 콜론으로 정의되는데, 값을 구할 때 어노테이션의 값을 주는 표현식이 뒤따른다. 반환 값 어노테이션은 리터럴 -> 와 그 뒤를 따르는 표현식으로 정의되는데, 매개변수 목록과 def 문의 끝을 나타내는 콜론 사이에 놓인다. 다음 예에서 위치 인자, 키워드 인자, 반환 값이 어노테이트 된다."
   ]
  },
  {
   "cell_type": "markdown",
   "metadata": {},
   "source": [
    "## Decorators\n",
    "\n",
    "- A function definition may be wrapped in decorator expressions\n",
    "  - A decorator is a function that transforms the function it decorates"
   ]
  },
  {
   "cell_type": "code",
   "execution_count": 40,
   "metadata": {},
   "outputs": [],
   "source": [
    "class List:\n",
    "    @staticmethod\n",
    "    def nil():\n",
    "        return []\n",
    "\n",
    "    @staticmethod\n",
    "    def cons(head, tail):\n",
    "        return [head] + tail"
   ]
  },
  {
   "cell_type": "code",
   "execution_count": 41,
   "metadata": {},
   "outputs": [],
   "source": [
    "nil = List.nil()"
   ]
  },
  {
   "cell_type": "code",
   "execution_count": 42,
   "metadata": {},
   "outputs": [
    {
     "data": {
      "text/plain": [
       "[]"
      ]
     },
     "execution_count": 42,
     "metadata": {},
     "output_type": "execute_result"
    }
   ],
   "source": [
    "nil"
   ]
  },
  {
   "cell_type": "code",
   "execution_count": 43,
   "metadata": {},
   "outputs": [],
   "source": [
    "one = List.cons(1, nil)"
   ]
  },
  {
   "cell_type": "code",
   "execution_count": 44,
   "metadata": {},
   "outputs": [
    {
     "data": {
      "text/plain": [
       "[1]"
      ]
     },
     "execution_count": 44,
     "metadata": {},
     "output_type": "execute_result"
    }
   ],
   "source": [
    "one"
   ]
  },
  {
   "cell_type": "code",
   "execution_count": 45,
   "metadata": {},
   "outputs": [],
   "source": [
    "two = List.cons(2, one)"
   ]
  },
  {
   "cell_type": "code",
   "execution_count": 46,
   "metadata": {},
   "outputs": [
    {
     "data": {
      "text/plain": [
       "[2, 1]"
      ]
     },
     "execution_count": 46,
     "metadata": {},
     "output_type": "execute_result"
    }
   ],
   "source": [
    "two"
   ]
  },
  {
   "cell_type": "markdown",
   "metadata": {},
   "source": [
    "## Lambda expressions\n",
    "\n",
    "- Lambda calculus\n",
    "- A lambda is simply an expression that can be passed around for execution\n",
    "  - It can take zero or more arguments\n",
    "  - As it is an expression not a statement, this can limit the applicability\n",
    "- Lambdas are anonymous, but can be assigned to variables\n",
    "  - But defining a one-line named function is preferred over global lamba assignment"
   ]
  },
  {
   "cell_type": "code",
   "execution_count": 47,
   "metadata": {},
   "outputs": [],
   "source": [
    "def print_if(values, predicate):\n",
    "    for value in values:\n",
    "        if predicate(value):\n",
    "            print(value)"
   ]
  },
  {
   "cell_type": "markdown",
   "metadata": {},
   "source": [
    "An ad hoc function that takes a single argument — in this case, number\n",
    "— and evaluates to a single expression — in this case, number % 2 ==\n",
    "0, i.e., whether the argument is even or not."
   ]
  },
  {
   "cell_type": "code",
   "execution_count": 48,
   "metadata": {},
   "outputs": [
    {
     "name": "stdout",
     "output_type": "stream",
     "text": [
      "2\n",
      "2\n",
      "4\n",
      "8\n"
     ]
    }
   ],
   "source": [
    "print_if([2, 9, 9, 7, 9, 2, 4, 5, 8], lambda number: number % 2 == 0)"
   ]
  },
  {
   "cell_type": "markdown",
   "metadata": {},
   "source": [
    "## Functional Programming\n",
    "\n",
    "- first class objects = function\n",
    "  - function을 first-class citizen으로 취급 (functions themselves are values or data or objects)\n",
    "    - In languages where functions are not first class, functions are defined as a relationship between values, which makes them \"second class\".\n",
    "  - 함수 자체를 인자 (argument)로써 다른 함수에 전달하거나 다른 함수의 결과값으로 반환(return)할수 있고, 함수를 변수에 할당하거나 데이터 구조 안에 저장할 수 있는 함수\n",
    "    - Functions can be passed as arguments and can be used in assignment\n",
    "      - This supports many callback techniques and functional programming idioms\n",
    "\n",
    "- higher order function = fucntor\n",
    "  - Takes and returns functions\n",
    "    - Takes one or more functions as arguments, Returns one or more function as its result\n",
    "  - Higher-order functions often used to abstract common iteration operations\n",
    "    - Hides the mechanics of repetition\n",
    "    - Comprehensions are often an alternative to such higher-order functions\n",
    "  - Not all functions in Pythons are higher-order, because not all functions take another function as an argument. But even the functions that are not higher-order are first class. (It's a square/rectangle thing.)\n",
    "\n",
    "- Functional Programming by Wikipidia:\n",
    "  - “Functional programming is a programming paradigm that treats computation as the evaluation of mathematical functions and avoids state and mutable data”. In other words, functional programming promotes code with no side effects, no change of value in variables. It opposes to imperative programming, which emphasizes change of state”.\n",
    "    - No mutable data (no side effect).\n",
    "    - No state (no implicit, hidden state).\n",
    "  - Functions are `pure` functions in the mathematical sense: their output depend only in their inputs, there is not “environment”.\n",
    "    - 숨겨진 출력은 “부작용(side-effect)”으로, 숨겨진 입력은 “부원인(side-cause)”\n",
    "    - 모든 입력이 입력으로 선언 (숨겨진 것이 없어야 함)\n",
    "      - 마찬가지로 모든 출력이 출력으로 선언된 함수를 ‘순수(pure)’\n",
    "  - Functions as principal units of `composition`\n",
    "  - `Immutability`, so querying state and creating new state rather than updating it\n",
    "    - Prefer to return new state rather than modifying arguments and attributes\n",
    "  - Same result returned by functions called with the same inputs.\n",
    "  - A `declarative` rather than imperative style, emphasizing data structure `relations`\n",
    "\n",
    "- What are the advantages?\n",
    "  - Cleaner code\n",
    "    - “variables” are not modified once defined, so we don’t have to follow the change of state to comprehend what a function, a, method, a class, a whole project works.\n",
    "  - Referential transparency\n",
    "    - Expressions can be replaced by its values. If we call a function with the same parameters, we know for sure the output will be the same (there is no state anywhere that would change it).\n",
    "  - Memoization\n",
    "    - Cache results for previous function calls.\n",
    "  - Idempotence\n",
    "    - Same results regardless how many times you call a function.\n",
    "  - Modularization\n",
    "    - We have no state that pervades the whole code, so we build our project with small, black boxes that we tie together, so it promotes bottom-up programming.\n",
    "  - Ease of debugging\n",
    "    - Functions are isolated, they only depend on their input and their output, so they are very easy to debug.\n",
    "  - Parallelization\n",
    "    - Functions calls are independent.\n",
    "    - We can parallelize in different process/CPUs/computers/…\n",
    "    - result = func1(a, b) + func2(a, c)We can execute func1 and func2 in paralell because a won’t be modified.\n",
    "  - Concurrence\n",
    "    - With no shared data, concurrence gets a lot simpler:\n",
    "    - No (semaphores, monitors, locks, race-conditions, dead-locks.)"
   ]
  },
  {
   "cell_type": "markdown",
   "metadata": {},
   "source": [
    "## FP in Python\n",
    "\n",
    "- Functional programming tools reduce `many loops` to simple expressions\n",
    "  - `Iterators` and `generators` support a lazy approach to handling series of values\n",
    "    - Iterators enjoy direct protocol and control structure support in Python\n",
    "    - Generators are functions that automatically create iterators\n",
    "    - Generator expressions support a simple way of generating generators\n",
    "    - Generators can abstract with logic\n",
    "  - Declarative over imperative style, e.g., use of comprehensions over loops\n",
    "\n",
    "- Deferred evaluation, i.e., be lazy\n",
    "  - `Lazy` rather than eager access to values\n",
    "  - 적용 결과 heavy computing을 줄일 수 있음.\n",
    "    - 수식이 변수에 접근하는 순간 계산되는 것이 아니라, 결과를 구하려고 할 때까지 연산을 미룸으로서 불필요한 연산을 줄일 수 있는 연산 전략의 일종\n",
    "\n",
    "- 파이썬에서, 모든 객체 메소드는 `this`를 첫번째 인자로 가진다.\n",
    "- 다만 그것을 `self`라고 부를 뿐이다."
   ]
  },
  {
   "cell_type": "code",
   "execution_count": 49,
   "metadata": {},
   "outputs": [],
   "source": [
    "def getName(self):\n",
    "    self.name"
   ]
  },
  {
   "cell_type": "markdown",
   "metadata": {},
   "source": [
    "- 분명히 명시적인 것이 묵시적인 것보다 낫다."
   ]
  },
  {
   "cell_type": "markdown",
   "metadata": {},
   "source": [
    "## Functional guidance\n",
    "\n",
    "- Immutability...\n",
    "  - Prefer to return new state rather than modifying arguments and attributes\n",
    "  - Resist the temptation to match every query or get method with a modifier or set\n",
    "- Expressiveness...\n",
    "  - Consider where loops and intermediate variables can be replaced with comprehensions and existing functions\n",
    "\n",
    "- Resist the temptation to match every query or get method with a modifier or set\n",
    "- Expressiveness...\n",
    "  - Consider where loops and intermediate variables can be replaced with comprehensions and existing functions\n",
    "- Python helps you write in functional style but it doesn’t force you to it.\n",
    "- Writing in functional style enhances your code and makes it more self documented. Actually it will make it more thread-safe also.\n",
    "- The main support for FP in Python comes from the use of\n",
    "  - comprehension, lambdas, closures, iterators and generators\n",
    "  - modules functools and itertools.\n",
    "- Python still lack an important aspect of FP: Pattern Matching and Tails Recursion.\n",
    "  - There should be more work on tail recursion optimization, to encourage developers to use recursion."
   ]
  },
  {
   "cell_type": "markdown",
   "metadata": {},
   "source": [
    "## Mutability pitfalls\n",
    "\n",
    "- Python is `reference-based` language, so objects are shared by default\n",
    "  - Easily accessible data or state-modifying methods can give aliasing surprises\n",
    "    - An object with more than one reference has more than one name, so we say that the object is aliased.\n",
    "  - <b>Note that true and full object immutability is not possible in Python</b>\n",
    "- Default arguments should be of immutable type, e.g., use tuple not list\n",
    "  - Changes persist between function calls"
   ]
  },
  {
   "cell_type": "markdown",
   "metadata": {},
   "source": [
    "## Fewer explicit loops\n",
    "\n",
    "- A common feature of functional programming is fewer explicit loops\n",
    "  - Recursion, but note that Python does not support tail recursion optimisation\n",
    "  - Comprehensions — very declarative, very Pythonic\n",
    "  - Higher-order functions, e.g., map applies a function over an iterable sequence\n",
    "  - Existing algorithmic functions, e.g., min, str.split, str.join"
   ]
  },
  {
   "cell_type": "markdown",
   "metadata": {},
   "source": [
    "## Recursion\n",
    "\n",
    "- Recursion may be a consequence of data structure traversal or algorithm\n",
    "  - E.g., iterating over a tree structure\n",
    "  - E.g., quicksort\n",
    "- But it can be used as an alternative to looping in many simple situations\n",
    "  - But beware of efficiency concerns and Python's limits (see sys.getrecursionlimit)"
   ]
  },
  {
   "cell_type": "markdown",
   "metadata": {},
   "source": [
    "## Reducing modifiable state\n",
    "\n",
    "Two variables being modified explicitly <-> No variables modified"
   ]
  },
  {
   "cell_type": "code",
   "execution_count": 50,
   "metadata": {},
   "outputs": [],
   "source": [
    "def factorial(n):\n",
    "    result = 1\n",
    "    while n > 0:\n",
    "        result *= n\n",
    "        n -= 1\n",
    "    return result"
   ]
  },
  {
   "cell_type": "code",
   "execution_count": 51,
   "metadata": {},
   "outputs": [],
   "source": [
    "def factorial(n):\n",
    "    result = 1\n",
    "    for i in range(1, n + 1):\n",
    "        result *= i\n",
    "    return result"
   ]
  },
  {
   "cell_type": "code",
   "execution_count": 52,
   "metadata": {},
   "outputs": [],
   "source": [
    "def factorial(n):\n",
    "    if n > 0:\n",
    "        return n * factorial(n - 1)\n",
    "    else:\n",
    "        return 1"
   ]
  },
  {
   "cell_type": "markdown",
   "metadata": {},
   "source": [
    "## Expressions versus statements\n",
    "\n",
    "There is a tendency in functional programming to favour expressions..."
   ]
  },
  {
   "cell_type": "code",
   "execution_count": 53,
   "metadata": {},
   "outputs": [],
   "source": [
    "def factorial(n):\n",
    "    if n > 0:\n",
    "        return n * factorial(n - 1)\n",
    "    else:\n",
    "        return 1"
   ]
  },
  {
   "cell_type": "code",
   "execution_count": 54,
   "metadata": {},
   "outputs": [],
   "source": [
    "def factorial(n):\n",
    "    return n * factorial(n - 1) if n > 0 else 1"
   ]
  },
  {
   "cell_type": "code",
   "execution_count": 55,
   "metadata": {},
   "outputs": [],
   "source": [
    "factorial = lambda n: n * factorial(n - 1) if n > 0 else 1"
   ]
  },
  {
   "cell_type": "markdown",
   "metadata": {},
   "source": [
    "But using a lambda bound to a variable instead of a single-statement function is not\n",
    "considered Pythonic and means factorial lacks some metadata of a function, e.g., a good `__name__`."
   ]
  },
  {
   "cell_type": "markdown",
   "metadata": {},
   "source": [
    "## Imperative versus declarative"
   ]
  },
  {
   "cell_type": "code",
   "execution_count": 56,
   "metadata": {},
   "outputs": [],
   "source": [
    "def is_leap_year(year):\n",
    "    return year % 4 == 0 and year % 100 != 0 or year % 400 == 0"
   ]
  },
  {
   "cell_type": "markdown",
   "metadata": {},
   "source": [
    "Imperative list initialisation"
   ]
  },
  {
   "cell_type": "code",
   "execution_count": 57,
   "metadata": {},
   "outputs": [],
   "source": [
    "leap_years = []\n",
    "for year in range(2000, 2030):\n",
    "    if is_leap_year(year):\n",
    "        leap_years.append(year)"
   ]
  },
  {
   "cell_type": "code",
   "execution_count": 58,
   "metadata": {},
   "outputs": [
    {
     "data": {
      "text/plain": [
       "[2000, 2004, 2008, 2012, 2016, 2020, 2024, 2028]"
      ]
     },
     "execution_count": 58,
     "metadata": {},
     "output_type": "execute_result"
    }
   ],
   "source": [
    "leap_years"
   ]
  },
  {
   "cell_type": "markdown",
   "metadata": {},
   "source": [
    "List comprehension"
   ]
  },
  {
   "cell_type": "code",
   "execution_count": 59,
   "metadata": {},
   "outputs": [],
   "source": [
    "leap_years = [year for year in range(2000, 2030) if is_leap_year(year)]"
   ]
  },
  {
   "cell_type": "code",
   "execution_count": 60,
   "metadata": {},
   "outputs": [
    {
     "data": {
      "text/plain": [
       "[2000, 2004, 2008, 2012, 2016, 2020, 2024, 2028]"
      ]
     },
     "execution_count": 60,
     "metadata": {},
     "output_type": "execute_result"
    }
   ],
   "source": [
    "leap_years"
   ]
  },
  {
   "cell_type": "markdown",
   "metadata": {},
   "source": [
    "# Higher-order functions"
   ]
  },
  {
   "cell_type": "markdown",
   "metadata": {},
   "source": [
    "## Higher-order functions - map\n",
    "\n",
    "- map applies a function over an iterable to produce a new iterable\n",
    "  - Can sometimes be replaced with a comprehension or generator expression that has no predicate\n",
    "  - Often shorter if no lambdas are involved"
   ]
  },
  {
   "cell_type": "code",
   "execution_count": 61,
   "metadata": {},
   "outputs": [
    {
     "data": {
      "text/plain": [
       "[3, 3, 3, 2, 3, 3]"
      ]
     },
     "execution_count": 61,
     "metadata": {},
     "output_type": "execute_result"
    }
   ],
   "source": [
    "list(map(len, 'The cat sat on the mat'.split()))"
   ]
  },
  {
   "cell_type": "code",
   "execution_count": 62,
   "metadata": {},
   "outputs": [
    {
     "data": {
      "text/plain": [
       "[3, 3, 3, 2, 3, 3]"
      ]
     },
     "execution_count": 62,
     "metadata": {},
     "output_type": "execute_result"
    }
   ],
   "source": [
    "list(len(word) for word in 'The cat sat on the mat'.split())"
   ]
  },
  {
   "cell_type": "markdown",
   "metadata": {},
   "source": [
    "## Higher-order functions - filter\n",
    "\n",
    "- filter includes only values that satisfy a given predicate in its generated result\n",
    "  - Can sometimes be replaced with a comprehension or generator expression that has a predicate\n",
    "  - Often shorter if no lambdas are involved"
   ]
  },
  {
   "cell_type": "code",
   "execution_count": 63,
   "metadata": {},
   "outputs": [],
   "source": [
    "scores = [100, 90, 50, 80, 50, 20, 0, 10, 100, 75]"
   ]
  },
  {
   "cell_type": "code",
   "execution_count": 64,
   "metadata": {},
   "outputs": [
    {
     "data": {
      "text/plain": [
       "[100, 90, 80, 100, 75]"
      ]
     },
     "execution_count": 64,
     "metadata": {},
     "output_type": "execute_result"
    }
   ],
   "source": [
    "list(filter(lambda score: score > 50, scores))"
   ]
  },
  {
   "cell_type": "code",
   "execution_count": 65,
   "metadata": {},
   "outputs": [
    {
     "data": {
      "text/plain": [
       "[100, 90, 80, 100, 75]"
      ]
     },
     "execution_count": 65,
     "metadata": {},
     "output_type": "execute_result"
    }
   ],
   "source": [
    "list(score for score in scores if score > 50)"
   ]
  },
  {
   "cell_type": "markdown",
   "metadata": {},
   "source": [
    "## Higher-order functions - reduce\n",
    "\n",
    "- functools.reduce implements what is know as a fold left operation\n",
    "  - Reduces a sequence of values to a single value, left to right, with the accumulated value on the left and the other on the right"
   ]
  },
  {
   "cell_type": "code",
   "execution_count": 66,
   "metadata": {},
   "outputs": [],
   "source": [
    "from functools import reduce"
   ]
  },
  {
   "cell_type": "code",
   "execution_count": 67,
   "metadata": {},
   "outputs": [],
   "source": [
    "def factorial(n):\n",
    "    return reduce(lambda l, r: l * r, range(1, n + 1), 1)"
   ]
  },
  {
   "cell_type": "markdown",
   "metadata": {},
   "source": [
    "`int.__mul__` would be a less general alternative:"
   ]
  },
  {
   "cell_type": "code",
   "execution_count": 68,
   "metadata": {},
   "outputs": [],
   "source": [
    "def factorial(n):\n",
    "    return reduce(operator.mul, range(1, n + 1), 1)"
   ]
  },
  {
   "cell_type": "markdown",
   "metadata": {},
   "source": [
    "## Currying\n",
    "\n",
    "In mathematics and computer science, currying is the techniq\n",
    "ue of translating the evaluation of a function that takes multi\n",
    "ple arguments (or a tuple of arguments) into evaluating a se\n",
    "quence of functions, each with a single argument (partial app\n",
    "lication). It was introduced by Moses Schönfinkel and later de\n",
    "veloped by Haskell Curry.\n",
    "\n",
    "http://en.wikipedia.org/wiki/Currying"
   ]
  },
  {
   "cell_type": "code",
   "execution_count": null,
   "metadata": {},
   "outputs": [],
   "source": [
    "f(x, y, z) = x * y + z"
   ]
  },
  {
   "cell_type": "markdown",
   "metadata": {},
   "source": [
    "3, 4, 5라는 인자들을 동시에 적용하여 다음과 같은 결과를 얻을 것이다."
   ]
  },
  {
   "cell_type": "code",
   "execution_count": null,
   "metadata": {},
   "outputs": [],
   "source": [
    "f(3, 4, 5) = 3 * 4 + 5 = 17"
   ]
  },
  {
   "cell_type": "markdown",
   "metadata": {},
   "source": [
    "하지만 3 하나만을 적용한다면, 다음과 같을 것이다."
   ]
  },
  {
   "cell_type": "code",
   "execution_count": null,
   "metadata": {},
   "outputs": [],
   "source": [
    "f(3, y, z) = g(y, z) = 3 * y + z"
   ]
  },
  {
   "cell_type": "markdown",
   "metadata": {},
   "source": [
    "자, 이제 두개의 인자를 가지는 g라는 새로운 함수가 생겼다. \n",
    "우리는 4를 y에 적용하여 이 함수를 다시 커링할 수 있다."
   ]
  },
  {
   "cell_type": "code",
   "execution_count": null,
   "metadata": {},
   "outputs": [],
   "source": [
    "g(4, z) = h(z) = 3 * 4 + z"
   ]
  },
  {
   "cell_type": "markdown",
   "metadata": {},
   "source": [
    "## Nested functions & lambdas\n",
    "\n",
    "- Nested functions and lambdas bind to their surrounding scope\n",
    "  - I.e., they are closures\n",
    "    - 내부 함수(함수 안의 함수)가 내부 함수를 둘러싼 외부 함수의 변수나 매개변수를 이용했는데 이 외부 함수가 종료되어도 내부 함수에서 사용한 변수 값은 내부 함수 내에서 계속 유지되는 기능"
   ]
  },
  {
   "cell_type": "code",
   "execution_count": 69,
   "metadata": {},
   "outputs": [],
   "source": [
    "def curry(function, first):\n",
    "    def curried(second):\n",
    "        return function(first, second)\n",
    "\n",
    "    return curried"
   ]
  },
  {
   "cell_type": "code",
   "execution_count": 70,
   "metadata": {},
   "outputs": [],
   "source": [
    "def curry(function, first):\n",
    "    return lambda second: function(first, second)"
   ]
  },
  {
   "cell_type": "code",
   "execution_count": 71,
   "metadata": {},
   "outputs": [
    {
     "name": "stdout",
     "output_type": "stream",
     "text": [
      "Hello World\n"
     ]
    }
   ],
   "source": [
    "hello = curry(print, 'Hello')\n",
    "hello('World')"
   ]
  },
  {
   "cell_type": "markdown",
   "metadata": {},
   "source": [
    "Force non-positional use of subsequent parameters:"
   ]
  },
  {
   "cell_type": "code",
   "execution_count": 72,
   "metadata": {},
   "outputs": [],
   "source": [
    "def timed_function(function, *, report=print):\n",
    "    from time import time\n",
    "\n",
    "    def wrapper(*args):\n",
    "        start = time()\n",
    "        try:\n",
    "            function(*args)\n",
    "        finally:\n",
    "            report(time() - start)\n",
    "\n",
    "    return wrapper"
   ]
  },
  {
   "cell_type": "markdown",
   "metadata": {},
   "source": [
    "## partial application\n",
    "\n",
    "- Values can be bound to a function's parameters using functools.partial\n",
    "  - Bound positional and keyword arguments are supplied on calling the resulting callable, other arguments are appended"
   ]
  },
  {
   "cell_type": "code",
   "execution_count": 73,
   "metadata": {},
   "outputs": [],
   "source": [
    "from functools import partial"
   ]
  },
  {
   "cell_type": "code",
   "execution_count": 74,
   "metadata": {},
   "outputs": [],
   "source": [
    "quoted = partial(print, '>')"
   ]
  },
  {
   "cell_type": "code",
   "execution_count": 75,
   "metadata": {},
   "outputs": [
    {
     "name": "stdout",
     "output_type": "stream",
     "text": [
      ">\n"
     ]
    }
   ],
   "source": [
    "quoted()  # print('>')"
   ]
  },
  {
   "cell_type": "code",
   "execution_count": 76,
   "metadata": {},
   "outputs": [
    {
     "name": "stdout",
     "output_type": "stream",
     "text": [
      "> Hello, World!\n"
     ]
    }
   ],
   "source": [
    "quoted('Hello, World!')  # print('>', 'Hello, World!')"
   ]
  },
  {
   "cell_type": "code",
   "execution_count": 77,
   "metadata": {},
   "outputs": [
    {
     "name": "stdout",
     "output_type": "stream",
     "text": [
      "> Hello, World! <\n"
     ]
    }
   ],
   "source": [
    "quoted('Hello, World!', end=' <\\n')  # print('>', 'Hello, World!', end=' <\\n')"
   ]
  },
  {
   "cell_type": "markdown",
   "metadata": {},
   "source": [
    "## Built-in algorithmic functions"
   ]
  },
  {
   "cell_type": "code",
   "execution_count": null,
   "metadata": {},
   "outputs": [],
   "source": [
    "min(iterable)\n",
    "min(iterable, default=value) # Default used if iterable is empty Type\n",
    "min(iterable, key=function) # The function to transform the values before determining the lowest one\n",
    "max(iterable)\n",
    "max(iterable, default=value)\n",
    "max(iterable, key=function)\n",
    "sum(iterable)\n",
    "sum(iterable, start)\n",
    "any(iterable)\n",
    "all(iterable)\n",
    "sorted(iterable)\n",
    "sorted(iterable, key=function)\n",
    "sorted(iterable, reverse=True)\n",
    "zip(iterable, ...) # One or more iterables can be zipped together as tuples,\n",
    "                   # i.e., effectively converting rows to columns, \n",
    "                   # but zipping two iterables is most common\n",
    "..."
   ]
  },
  {
   "cell_type": "markdown",
   "metadata": {},
   "source": [
    "## Functions from itertools"
   ]
  },
  {
   "cell_type": "code",
   "execution_count": null,
   "metadata": {},
   "outputs": [],
   "source": [
    "chain(iterable, ...)\n",
    "compress(iterable, selection)\n",
    "dropwhile(predicate, iterable)\n",
    "takewhile(predicate, iterable)\n",
    "count()\n",
    "count(start)\n",
    "count(start, step)\n",
    "islice(iterable, stop)\n",
    "islice(iterable, start, stop)\n",
    "islice(iterable, start, stop, step)\n",
    "cycle(iterable)\n",
    "repeat(value)\n",
    "repeat(value, times)\n",
    "zip_longest(iterable, ...)\n",
    "zip_longest(iterable, ..., fillvalue=fill)\n",
    "..."
   ]
  },
  {
   "cell_type": "markdown",
   "metadata": {},
   "source": [
    "# Comprehensions\n",
    "\n",
    "Imperative list initialisation"
   ]
  },
  {
   "cell_type": "code",
   "execution_count": 90,
   "metadata": {},
   "outputs": [],
   "source": [
    "squares = []\n",
    "for i in range(13):\n",
    "    squares.append(i**2)"
   ]
  },
  {
   "cell_type": "code",
   "execution_count": 91,
   "metadata": {},
   "outputs": [
    {
     "data": {
      "text/plain": [
       "[0, 1, 4, 9, 16, 25, 36, 49, 64, 81, 100, 121, 144]"
      ]
     },
     "execution_count": 91,
     "metadata": {},
     "output_type": "execute_result"
    }
   ],
   "source": [
    "squares"
   ]
  },
  {
   "cell_type": "markdown",
   "metadata": {},
   "source": [
    "List comprehension"
   ]
  },
  {
   "cell_type": "code",
   "execution_count": 92,
   "metadata": {},
   "outputs": [],
   "source": [
    "squares = [i**2 for i in range(13)]"
   ]
  },
  {
   "cell_type": "code",
   "execution_count": 93,
   "metadata": {},
   "outputs": [
    {
     "data": {
      "text/plain": [
       "[0, 1, 4, 9, 16, 25, 36, 49, 64, 81, 100, 121, 144]"
      ]
     },
     "execution_count": 93,
     "metadata": {},
     "output_type": "execute_result"
    }
   ],
   "source": [
    "squares"
   ]
  },
  {
   "cell_type": "markdown",
   "metadata": {},
   "source": [
    "List comprehension"
   ]
  },
  {
   "cell_type": "code",
   "execution_count": 94,
   "metadata": {},
   "outputs": [
    {
     "data": {
      "text/plain": [
       "[0, 1, 4, 9, 16, 25, 36, 49, 64, 81, 100, 121, 144]"
      ]
     },
     "execution_count": 94,
     "metadata": {},
     "output_type": "execute_result"
    }
   ],
   "source": [
    "[i**2 for i in range(13)]"
   ]
  },
  {
   "cell_type": "markdown",
   "metadata": {},
   "source": [
    "Set comprehension"
   ]
  },
  {
   "cell_type": "code",
   "execution_count": 95,
   "metadata": {},
   "outputs": [
    {
     "data": {
      "text/plain": [
       "{0, 1, 2, 3, 4, 5, 6, 7, 8, 9, 10}"
      ]
     },
     "execution_count": 95,
     "metadata": {},
     "output_type": "execute_result"
    }
   ],
   "source": [
    "{abs(i) for i in range(-10, 10)}"
   ]
  },
  {
   "cell_type": "markdown",
   "metadata": {},
   "source": [
    "Dictionary comprehension"
   ]
  },
  {
   "cell_type": "code",
   "execution_count": 96,
   "metadata": {},
   "outputs": [
    {
     "data": {
      "text/plain": [
       "{0: 0, 1: 1, 2: 4, 3: 9, 4: 16, 5: 25, 6: 36, 7: 49}"
      ]
     },
     "execution_count": 96,
     "metadata": {},
     "output_type": "execute_result"
    }
   ],
   "source": [
    "{i: i**2 for i in range(8)}"
   ]
  },
  {
   "cell_type": "markdown",
   "metadata": {},
   "source": [
    "## One way to do it?"
   ]
  },
  {
   "cell_type": "code",
   "execution_count": null,
   "metadata": {},
   "outputs": [],
   "source": [
    "list(range(0, 100, 2))\n",
    "list(range(100))[::2]\n",
    "list(range(100)[::2])\n",
    "list(map(lambda i: i * 2, range(50)))\n",
    "list(filter(lambda i: i % 2 == 0, range(100)))\n",
    "[i * 2 for i in range(50)]\n",
    "[i for i in range(100) if i % 2 == 0]\n",
    "[i for i in range(100)][::2]"
   ]
  },
  {
   "cell_type": "markdown",
   "metadata": {},
   "source": [
    "## Experiment\n",
    "\n",
    "In what order do you expect the elements in the comprehension to appear?"
   ]
  },
  {
   "cell_type": "code",
   "execution_count": 98,
   "metadata": {
    "scrolled": true
   },
   "outputs": [
    {
     "data": {
      "text/plain": [
       "[('A', 'spades'),\n",
       " (2, 'spades'),\n",
       " (3, 'spades'),\n",
       " (4, 'spades'),\n",
       " (5, 'spades'),\n",
       " (6, 'spades'),\n",
       " (7, 'spades'),\n",
       " (8, 'spades'),\n",
       " (9, 'spades'),\n",
       " (10, 'spades'),\n",
       " ('J', 'spades'),\n",
       " ('Q', 'spades'),\n",
       " ('K', 'spades'),\n",
       " ('A', 'hearts'),\n",
       " (2, 'hearts'),\n",
       " (3, 'hearts'),\n",
       " (4, 'hearts'),\n",
       " (5, 'hearts'),\n",
       " (6, 'hearts'),\n",
       " (7, 'hearts'),\n",
       " (8, 'hearts'),\n",
       " (9, 'hearts'),\n",
       " (10, 'hearts'),\n",
       " ('J', 'hearts'),\n",
       " ('Q', 'hearts'),\n",
       " ('K', 'hearts'),\n",
       " ('A', 'diamonds'),\n",
       " (2, 'diamonds'),\n",
       " (3, 'diamonds'),\n",
       " (4, 'diamonds'),\n",
       " (5, 'diamonds'),\n",
       " (6, 'diamonds'),\n",
       " (7, 'diamonds'),\n",
       " (8, 'diamonds'),\n",
       " (9, 'diamonds'),\n",
       " (10, 'diamonds'),\n",
       " ('J', 'diamonds'),\n",
       " ('Q', 'diamonds'),\n",
       " ('K', 'diamonds'),\n",
       " ('A', 'clubs'),\n",
       " (2, 'clubs'),\n",
       " (3, 'clubs'),\n",
       " (4, 'clubs'),\n",
       " (5, 'clubs'),\n",
       " (6, 'clubs'),\n",
       " (7, 'clubs'),\n",
       " (8, 'clubs'),\n",
       " (9, 'clubs'),\n",
       " (10, 'clubs'),\n",
       " ('J', 'clubs'),\n",
       " ('Q', 'clubs'),\n",
       " ('K', 'clubs')]"
      ]
     },
     "execution_count": 98,
     "metadata": {},
     "output_type": "execute_result"
    }
   ],
   "source": [
    "values = ['A'] + list(range(2, 11)) + ['J', 'Q', 'K']\n",
    "suits = ['spades', 'hearts', 'diamonds', 'clubs']\n",
    "[(value, suit) for suit in suits for value in values]"
   ]
  },
  {
   "cell_type": "markdown",
   "metadata": {},
   "source": [
    "# iterator & generator"
   ]
  },
  {
   "cell_type": "markdown",
   "metadata": {},
   "source": [
    "## Being lazy\n",
    "\n",
    "- Be lazy by taking advantage of functionality already available\n",
    "  - E.g., the min, max, sum, all, any and sorted built-ins all apply to iterables\n",
    "  - Many common container-based looping patterns are captured in the form of container comprehensions\n",
    "  - Look at itertools and functools modules for more possibilities\n",
    "- Be lazy by using abstractions that evaluate their values on demand\n",
    "  - You don't need to resolve everything into a list in order to use a series of values\n",
    "- Iterators and generators let you create objects that yield values in sequence\n",
    "  - An iterator is an object that iterates\n",
    "  - For some cases you can adapt existing iteration functionality using the iter built-in"
   ]
  },
  {
   "cell_type": "markdown",
   "metadata": {},
   "source": [
    "## Iteration\n",
    "\n",
    "- An iterator is an object that iterates, following the iterator protocol\n",
    "  - An iterable object can be used with for\n",
    "- Iterators and generators are lazy, returning values on demand\n",
    "  - You don't need to resolve everything into a list in order to use a series of values\n",
    "  - Yield values in sequence, so can linearise complex traversals, e.g., tree structures\n",
    "- An iterator is an object that supports the __next__ method for traversal\n",
    "  - Invoked via the next built-in function\n",
    "- An iterable is an object that returns an iterator in support of `__iter__` method\n",
    "  - Invoked via the iter built-in function\n",
    "  - Iterators are iterable, so the __iter__ method is an identity operation"
   ]
  },
  {
   "cell_type": "code",
   "execution_count": 99,
   "metadata": {},
   "outputs": [],
   "source": [
    "class Iterable:\n",
    "...\n",
    "    def __iter__(self): # An object is iterable if it supports the __iter__ special method,\n",
    "                        # which is called by the iter function\n",
    "        return Iterator(...)\n",
    "...\n",
    "\n",
    "    class Iterator:\n",
    "        ...\n",
    "        def __iter__(self): # All iterators are iterable, \n",
    "                            # so the __iter__ method is an identity operation\n",
    "            return self\n",
    "\n",
    "        def __next__(self): # The __next__ special method,\n",
    "                            # called by next, advances the iterator\n",
    "            ...\n",
    "            raise StopIteration # Iteration is terminated by raising StopIteration\n",
    "            ...\n",
    "    ..."
   ]
  },
  {
   "cell_type": "markdown",
   "metadata": {},
   "source": [
    "## Defining iterators\n",
    "\n",
    "- There are many ways to provide an iterator...\n",
    "  - Define a class that supports the iterator protocol directly\n",
    "  - Return an iterator from another object\n",
    "  - Compose an iterator with iter, using an action and a termination value\n",
    "  - Define a generator function\n",
    "  - Write a generator expression"
   ]
  },
  {
   "cell_type": "markdown",
   "metadata": {},
   "source": [
    "## Iterable\n",
    "\n",
    "- Parallel assignment = tuple unpacking\n",
    "- Parallel assignment in for loops\n",
    "- Function argument unpacking = splat\n",
    "- reduction functions = all, any, max, min, sum\n",
    "- .sort() / sorted() 비교"
   ]
  },
  {
   "cell_type": "markdown",
   "metadata": {},
   "source": [
    "## iter\n",
    "\n",
    "- Use iter to create an iterator from a callable object and a sentinel value\n",
    "  - Or to create an iterator from an iterable"
   ]
  },
  {
   "cell_type": "code",
   "execution_count": 100,
   "metadata": {},
   "outputs": [],
   "source": [
    "def pop_until(stack, end):\n",
    "    return iter(stack.pop, end)"
   ]
  },
  {
   "cell_type": "code",
   "execution_count": 101,
   "metadata": {},
   "outputs": [],
   "source": [
    "history = [1, 2, None, 4, 5]"
   ]
  },
  {
   "cell_type": "code",
   "execution_count": 102,
   "metadata": {},
   "outputs": [
    {
     "name": "stdout",
     "output_type": "stream",
     "text": [
      "5\n",
      "4\n"
     ]
    }
   ],
   "source": [
    "for popped in pop_until(history, None):\n",
    "    print(popped)"
   ]
  },
  {
   "cell_type": "code",
   "execution_count": 103,
   "metadata": {},
   "outputs": [],
   "source": [
    "def repl():\n",
    "    for line in iter(lambda: input('> '), 'exit'):\n",
    "        print(evaluate(line))"
   ]
  },
  {
   "cell_type": "markdown",
   "metadata": {},
   "source": [
    "## next\n",
    "\n",
    "- Iterators can be advanced manually using next\n",
    "  - Calls the `__next__` method\n",
    "  - Watch out for StopIteration at the end..."
   ]
  },
  {
   "cell_type": "code",
   "execution_count": 104,
   "metadata": {},
   "outputs": [],
   "source": [
    "def repl():\n",
    "    try:\n",
    "        lines = iter(lambda: input('> '), 'exit')\n",
    "        while True:\n",
    "            line = next(lines)\n",
    "            print(evaluate(line))\n",
    "    except StopIteration:\n",
    "        pass"
   ]
  },
  {
   "cell_type": "markdown",
   "metadata": {},
   "source": [
    "## Generators\n",
    "\n",
    "- A generator is a comprehension that results in an iterator object\n",
    "  - It does not result in a container of values\n",
    "  - Must be surrounded by parentheses unless it is the sole argument of a function"
   ]
  },
  {
   "cell_type": "code",
   "execution_count": 105,
   "metadata": {},
   "outputs": [
    {
     "data": {
      "text/plain": [
       "<generator object <genexpr> at 0x0000022580A47A20>"
      ]
     },
     "execution_count": 105,
     "metadata": {},
     "output_type": "execute_result"
    }
   ],
   "source": [
    "(i * 2 for i in range(50))"
   ]
  },
  {
   "cell_type": "code",
   "execution_count": 106,
   "metadata": {},
   "outputs": [
    {
     "data": {
      "text/plain": [
       "<generator object <genexpr> at 0x0000022580A47A98>"
      ]
     },
     "execution_count": 106,
     "metadata": {},
     "output_type": "execute_result"
    }
   ],
   "source": [
    "(i for i in range(100) if i % 2 == 0)"
   ]
  },
  {
   "cell_type": "code",
   "execution_count": 107,
   "metadata": {},
   "outputs": [
    {
     "data": {
      "text/plain": [
       "285"
      ]
     },
     "execution_count": 107,
     "metadata": {},
     "output_type": "execute_result"
    }
   ],
   "source": [
    "sum(i * i for i in range(10))"
   ]
  },
  {
   "cell_type": "markdown",
   "metadata": {},
   "source": [
    "## Generator expressions\n",
    "\n",
    "- A comprehension-based expression that results in an iterator object\n",
    "  - Does not result in a container of values\n",
    "  - Must be surrounded by parentheses unless it is the sole argument of a function\n",
    "  - May be returned as the result of a function"
   ]
  },
  {
   "cell_type": "code",
   "execution_count": 111,
   "metadata": {},
   "outputs": [],
   "source": [
    "from random import random"
   ]
  },
  {
   "cell_type": "code",
   "execution_count": 112,
   "metadata": {},
   "outputs": [],
   "source": [
    "numbers = (random() for _ in range(42))"
   ]
  },
  {
   "cell_type": "code",
   "execution_count": 113,
   "metadata": {},
   "outputs": [
    {
     "data": {
      "text/plain": [
       "24.002682927146346"
      ]
     },
     "execution_count": 113,
     "metadata": {},
     "output_type": "execute_result"
    }
   ],
   "source": [
    "sum(numbers)"
   ]
  },
  {
   "cell_type": "code",
   "execution_count": 114,
   "metadata": {},
   "outputs": [
    {
     "data": {
      "text/plain": [
       "22.29989146874446"
      ]
     },
     "execution_count": 114,
     "metadata": {},
     "output_type": "execute_result"
    }
   ],
   "source": [
    "sum(random() for _ in range(42))"
   ]
  },
  {
   "cell_type": "markdown",
   "metadata": {},
   "source": [
    "## Generator functions & yield\n",
    "\n",
    "- You can write your own iterator classes or, in many cases, just use a function\n",
    "  - On calling, a generator function returns an iterator and behaves like a coroutine"
   ]
  },
  {
   "cell_type": "code",
   "execution_count": 115,
   "metadata": {},
   "outputs": [],
   "source": [
    "def evens_up_to(limit):\n",
    "    for i in range(0, limit, 2):\n",
    "        yield i"
   ]
  },
  {
   "cell_type": "code",
   "execution_count": 116,
   "metadata": {
    "scrolled": true
   },
   "outputs": [
    {
     "name": "stdout",
     "output_type": "stream",
     "text": [
      "0\n",
      "2\n",
      "4\n",
      "6\n",
      "8\n",
      "10\n",
      "12\n",
      "14\n",
      "16\n",
      "18\n",
      "20\n",
      "22\n",
      "24\n",
      "26\n",
      "28\n",
      "30\n",
      "32\n",
      "34\n",
      "36\n",
      "38\n",
      "40\n",
      "42\n",
      "44\n",
      "46\n",
      "48\n",
      "50\n",
      "52\n",
      "54\n",
      "56\n",
      "58\n",
      "60\n",
      "62\n",
      "64\n",
      "66\n",
      "68\n",
      "70\n",
      "72\n",
      "74\n",
      "76\n",
      "78\n",
      "80\n",
      "82\n",
      "84\n",
      "86\n",
      "88\n",
      "90\n",
      "92\n",
      "94\n",
      "96\n",
      "98\n"
     ]
    }
   ],
   "source": [
    "for i in evens_up_to(100):\n",
    "    print(i)"
   ]
  }
 ],
 "metadata": {
  "kernelspec": {
   "display_name": "Python 3",
   "language": "python",
   "name": "python3"
  },
  "language_info": {
   "codemirror_mode": {
    "name": "ipython",
    "version": 3
   },
   "file_extension": ".py",
   "mimetype": "text/x-python",
   "name": "python",
   "nbconvert_exporter": "python",
   "pygments_lexer": "ipython3",
   "version": "3.7.3"
  }
 },
 "nbformat": 4,
 "nbformat_minor": 2
}
